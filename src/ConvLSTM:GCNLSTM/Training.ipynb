{
 "cells": [
  {
   "cell_type": "markdown",
   "metadata": {
    "id": "ENyzpGSYlF4A"
   },
   "source": [
    "### Download Data"
   ]
  },
  {
   "cell_type": "code",
   "execution_count": null,
   "metadata": {},
   "outputs": [],
   "source": [
    "# adapted from: https://github.com/ndrplz/ConvLSTM_pytorch"
   ]
  },
  {
   "cell_type": "code",
   "execution_count": 1,
   "metadata": {
    "execution": {
     "iopub.execute_input": "2021-06-13T03:55:06.162010Z",
     "iopub.status.busy": "2021-06-13T03:55:06.161679Z",
     "iopub.status.idle": "2021-06-13T03:55:06.802517Z",
     "shell.execute_reply": "2021-06-13T03:55:06.801578Z",
     "shell.execute_reply.started": "2021-06-13T03:55:06.161975Z"
    },
    "id": "BP6jnd8zR6Hf"
   },
   "outputs": [],
   "source": [
    "#  Download the toy moving mnist dataset for testing\n",
    "# ! wget -q https://www.cs.toronto.edu/~nitish/unsupervised_video/mnist_test_seq.npy"
   ]
  },
  {
   "cell_type": "markdown",
   "metadata": {
    "id": "1igsH1jklF4F"
   },
   "source": [
    "### Import Dependencies"
   ]
  },
  {
   "cell_type": "code",
   "execution_count": 55,
   "metadata": {
    "execution": {
     "iopub.execute_input": "2021-06-13T03:55:13.679756Z",
     "iopub.status.busy": "2021-06-13T03:55:13.679420Z",
     "iopub.status.idle": "2021-06-13T03:55:14.966180Z",
     "shell.execute_reply": "2021-06-13T03:55:14.965344Z",
     "shell.execute_reply.started": "2021-06-13T03:55:13.679721Z"
    },
    "id": "B1NCInuSSnAA"
   },
   "outputs": [],
   "source": [
    "import numpy as np\n",
    "import torch\n",
    "import torch.nn as nn\n",
    "from torch.optim import Adam\n",
    "from Seq2Seq import Seq2Seq\n",
    "from torch.utils.data import DataLoader\n",
    "\n",
    "import io\n",
    "import imageio\n",
    "from ipywidgets import widgets, HBox\n",
    "import matplotlib.pyplot as plt\n",
    "from ConvLSTM import ConvLSTM\n",
    "from tqdm.notebook import tqdm\n",
    "\n",
    "# Control whether we want to compute the loss function based on \n",
    "# the entire predicted sequence (original sequence shifted by one)\n",
    "# or compute the loss function based on the last predicted frame only\n",
    "entire_sequence_version=False\n",
    "\n",
    "# Use GPU if available\n",
    "device = torch.device('cuda' if torch.cuda.is_available() else 'cpu')"
   ]
  },
  {
   "cell_type": "markdown",
   "metadata": {
    "id": "qQTkEVgclF4I"
   },
   "source": [
    "### Import Data and Create Dataloaders"
   ]
  },
  {
   "cell_type": "code",
   "execution_count": 4,
   "metadata": {
    "execution": {
     "iopub.execute_input": "2021-06-13T03:55:19.752382Z",
     "iopub.status.busy": "2021-06-13T03:55:19.752056Z",
     "iopub.status.idle": "2021-06-13T03:55:20.348613Z",
     "shell.execute_reply": "2021-06-13T03:55:20.347716Z",
     "shell.execute_reply.started": "2021-06-13T03:55:19.752353Z"
    },
    "id": "Fr0LJzaiSptt"
   },
   "outputs": [],
   "source": [
    "# Load Data as Numpy Array\n",
    "MovingMNIST = np.load('mnist_test_seq.npy').transpose(1, 0, 2, 3)\n",
    "\n",
    "# Shuffle Data\n",
    "np.random.shuffle(MovingMNIST)\n",
    "\n",
    "# Train, Test, Validation splits\n",
    "train_data = MovingMNIST[:8000]         \n",
    "val_data = MovingMNIST[8000:9000]       \n",
    "test_data = MovingMNIST[9000:10000]     \n",
    "\n",
    "def collate3d(batch):\n",
    "\n",
    "    # Add channel dim, scale pixels between 0 and 1, send to GPU\n",
    "    batch = torch.tensor(batch).unsqueeze(1)     \n",
    "    batch = batch / 255.0                        \n",
    "    batch = batch.to(device)                     \n",
    "\n",
    "    # the output is the input sequence shift right by 1, both have length 19\n",
    "    rand = np.random.randint(10,20)\n",
    "    seq_len=batch.shape[2]\n",
    "    return batch[:,:,0:seq_len-1], batch[:,:,1:seq_len]      \n",
    "\n",
    "def collate2d(batch):\n",
    "\n",
    "    # Add channel dim, scale pixels between 0 and 1, send to GPU\n",
    "    batch = torch.tensor(batch).unsqueeze(1)     \n",
    "    batch = batch / 255.0                        \n",
    "    batch = batch.to(device)                     \n",
    "\n",
    "    # Randomly pick 10 frames as input, 11th frame is target\n",
    "    rand = np.random.randint(10,20)                     \n",
    "    return batch[:,:,rand-10:rand], batch[:,:,rand]\n",
    "\n",
    "if entire_sequence_version:\n",
    "    # Training Data Loader\n",
    "    train_loader = DataLoader(train_data, shuffle=True, \n",
    "                            batch_size=16, collate_fn=collate3d)\n",
    "\n",
    "    # Validation Data Loader\n",
    "    val_loader = DataLoader(val_data, shuffle=True, \n",
    "                            batch_size=16, collate_fn=collate3d)\n",
    "else:\n",
    "    # Training Data Loader\n",
    "    train_loader = DataLoader(train_data, shuffle=True, \n",
    "                            batch_size=16, collate_fn=collate2d)\n",
    "\n",
    "    # Validation Data Loader\n",
    "    val_loader = DataLoader(val_data, shuffle=True, \n",
    "                            batch_size=16, collate_fn=collate2d)"
   ]
  },
  {
   "cell_type": "markdown",
   "metadata": {
    "id": "r83DdoFNlF4J"
   },
   "source": [
    "### Visualize Data"
   ]
  },
  {
   "cell_type": "code",
   "execution_count": 5,
   "metadata": {
    "colab": {
     "base_uri": "https://localhost:8080/",
     "height": 289,
     "referenced_widgets": [
      "412caa4a5cfb4966b4cc10113c5794e6",
      "e6f49cb143d9470bbbd3a67ce58d6809",
      "bc93cef678ac461fbf15f38815a346bc",
      "8e626c59c3b04e2bb1435b5eb9a104dd",
      "8f0619da032b4215933c03e53ff93425",
      "815ebfb5e3aa47aa842c2963a4ec7348",
      "1e1cbcf17f01489e82ef78f12074ead6",
      "8e193e3c41fb41feaaa88251baaf2b8b",
      "86fb3ad9397c46908a65d1017731c588",
      "d3b408b7308c40f28ccd2b4f94ed434a",
      "427cadbfceb3425d826f8c15f4bfb588",
      "da00bdcbd681479e9ed1fc1348093593",
      "4c73bf5d0aeb44cc8304aa4d9d4d5bc4",
      "243119e5e8354b9bad3e5d2e24257429",
      "38dc5dfa134f4244b8d2811cd8dc14d1",
      "1734c0ba09c6409792af467c422c2b9a"
     ]
    },
    "id": "0FTl9cg0lF4K",
    "outputId": "44d12239-2267-4787-a0d3-b114b1d426d4"
   },
   "outputs": [
    {
     "data": {
      "application/vnd.jupyter.widget-view+json": {
       "model_id": "a282991585064befa9d84923fd549fc1",
       "version_major": 2,
       "version_minor": 0
      },
      "text/plain": [
       "HBox(children=(Image(value=b'GIF89a@\\x00@\\x00\\x87\\x00\\x00\\xff\\xff\\xff\\xfe\\xfe\\xfe\\xfd\\xfd\\xfd\\xfc\\xfc\\xfc\\xfb\\…"
      ]
     },
     "metadata": {},
     "output_type": "display_data"
    },
    {
     "data": {
      "application/vnd.jupyter.widget-view+json": {
       "model_id": "9a9b667242a2435990bc4eb48735bc93",
       "version_major": 2,
       "version_minor": 0
      },
      "text/plain": [
       "HBox(children=(Image(value=b'GIF89a@\\x00@\\x00\\x87\\x00\\x00\\xff\\xff\\xff\\xfe\\xfe\\xfe\\xfd\\xfd\\xfd\\xfc\\xfc\\xfc\\xfa\\…"
      ]
     },
     "metadata": {},
     "output_type": "display_data"
    },
    {
     "data": {
      "application/vnd.jupyter.widget-view+json": {
       "model_id": "8cf26cc1a99b44f68406cc04a4a9ddbc",
       "version_major": 2,
       "version_minor": 0
      },
      "text/plain": [
       "HBox(children=(Image(value=b'GIF89a@\\x00@\\x00\\x87\\x00\\x00\\xff\\xff\\xff\\xfe\\xfe\\xfe\\xfd\\xfd\\xfd\\xfc\\xfc\\xfc\\xfb\\…"
      ]
     },
     "metadata": {},
     "output_type": "display_data"
    }
   ],
   "source": [
    "# Get a batch\n",
    "input, _ = next(iter(val_loader))\n",
    "\n",
    "# Reverse process before displaying\n",
    "input = input.cpu().numpy() * 255.0     \n",
    "\n",
    "for video in input.squeeze(1)[:3]:          # Loop over videos\n",
    "    with io.BytesIO() as gif:\n",
    "        imageio.mimsave(gif,video.astype(np.uint8),\"GIF\",fps=5)\n",
    "        display(HBox([widgets.Image(value=gif.getvalue())]))"
   ]
  },
  {
   "cell_type": "code",
   "execution_count": 153,
   "metadata": {},
   "outputs": [
    {
     "data": {
      "text/plain": [
       "torch.Size([3, 1, 10, 64, 64])"
      ]
     },
     "execution_count": 153,
     "metadata": {},
     "output_type": "execute_result"
    }
   ],
   "source": [
    "input.shape"
   ]
  },
  {
   "cell_type": "markdown",
   "metadata": {
    "id": "LRNHKmZ1t0Nb"
   },
   "source": [
    "### Instantiate Model, Optimizer and Loss"
   ]
  },
  {
   "cell_type": "code",
   "execution_count": 6,
   "metadata": {
    "execution": {
     "iopub.execute_input": "2021-06-13T03:55:27.577542Z",
     "iopub.status.busy": "2021-06-13T03:55:27.577216Z",
     "iopub.status.idle": "2021-06-13T03:55:31.721032Z",
     "shell.execute_reply": "2021-06-13T03:55:31.720159Z",
     "shell.execute_reply.started": "2021-06-13T03:55:27.577511Z"
    },
    "id": "ha05rQ85SOoS"
   },
   "outputs": [],
   "source": [
    "# The input video frames are grayscale, thus single channel\n",
    "if entire_sequence_version:\n",
    "    model = Seq2Seq(num_channels=1, num_kernels=64, \n",
    "    kernel_size=(3, 3), padding=(1, 1), activation=\"relu\", \n",
    "    frame_size=(64, 64), num_layers=3, return_sequences=True).to(device)\n",
    "else:\n",
    "    model = Seq2Seq(num_channels=1, num_kernels=64, \n",
    "    kernel_size=(3, 3), padding=(1, 1), activation=\"relu\", \n",
    "    frame_size=(64, 64), num_layers=3, return_sequences=False).to(device)\n",
    "    \n",
    "\n",
    "optim = Adam(model.parameters(), lr=1e-4)\n",
    "\n",
    "# Binary Cross Entropy, target pixel values either 0 or 1\n",
    "criterion = nn.BCELoss(reduction='sum')"
   ]
  },
  {
   "cell_type": "markdown",
   "metadata": {
    "id": "3nSXyPN0t5pX"
   },
   "source": [
    "### Train for about 20 epochs"
   ]
  },
  {
   "cell_type": "code",
   "execution_count": null,
   "metadata": {
    "colab": {
     "base_uri": "https://localhost:8080/"
    },
    "execution": {
     "iopub.execute_input": "2021-06-13T03:55:53.999193Z",
     "iopub.status.busy": "2021-06-13T03:55:53.998820Z",
     "iopub.status.idle": "2021-06-13T06:05:33.059489Z",
     "shell.execute_reply": "2021-06-13T06:05:33.057958Z",
     "shell.execute_reply.started": "2021-06-13T03:55:53.999160Z"
    },
    "id": "xoIeBJjnDJeC",
    "outputId": "9e022a46-5f54-467c-aaa5-e4399222f5c3",
    "scrolled": true
   },
   "outputs": [],
   "source": [
    "num_epochs = 20\n",
    "\n",
    "for epoch in range(1, num_epochs+1):\n",
    "    \n",
    "    train_loss = 0                                                 \n",
    "    model.train()                                                  \n",
    "    for batch_num, (input, target) in enumerate(tqdm(train_loader)):\n",
    "        output = model(input)                                     \n",
    "        loss = criterion(output.flatten(), target.flatten())       \n",
    "        loss.backward()                                            \n",
    "        optim.step()                                               \n",
    "        optim.zero_grad()                                           \n",
    "        train_loss += loss.item()                                 \n",
    "    train_loss /= len(train_loader.dataset)                       \n",
    "\n",
    "    val_loss = 0                                                 \n",
    "    model.eval()                                                   \n",
    "    with torch.no_grad():                                          \n",
    "        for input, target in val_loader:                          \n",
    "            output = model(input)                                   \n",
    "            loss = criterion(output.flatten(), target.flatten())   \n",
    "            val_loss += loss.item()                                \n",
    "    val_loss /= len(val_loader.dataset)                            \n",
    "\n",
    "    print(\"Epoch:{} Training Loss:{:.2f} Validation Loss:{:.2f}\\n\".format(\n",
    "        epoch, train_loss, val_loss))"
   ]
  },
  {
   "cell_type": "code",
   "execution_count": 149,
   "metadata": {},
   "outputs": [],
   "source": [
    "#torch.save(model.state_dict(), \"mnist_temp\")"
   ]
  },
  {
   "cell_type": "markdown",
   "metadata": {
    "id": "xyz_hW6y2z8F"
   },
   "source": [
    "### Visualize what our model has learned so far"
   ]
  },
  {
   "cell_type": "code",
   "execution_count": 145,
   "metadata": {
    "execution": {
     "iopub.execute_input": "2021-06-13T06:05:45.148609Z",
     "iopub.status.busy": "2021-06-13T06:05:45.148158Z",
     "iopub.status.idle": "2021-06-13T06:05:46.306769Z",
     "shell.execute_reply": "2021-06-13T06:05:46.305951Z",
     "shell.execute_reply.started": "2021-06-13T06:05:45.148567Z"
    },
    "id": "FYa1RUlz4Ohv"
   },
   "outputs": [],
   "source": [
    "### for 3d evaluation only \n",
    "if entire_sequence_version:\n",
    "    def collate_test(batch):\n",
    "\n",
    "        # Last 10 frames are target\n",
    "        target = np.array(batch)[:,10:]                     \n",
    "\n",
    "        # Add channel dim, scale pixels between 0 and 1, send to GPU\n",
    "        batch = torch.tensor(batch).unsqueeze(1)          \n",
    "        batch = batch / 255.0                             \n",
    "        batch = batch.to(device)                          \n",
    "        return batch, target\n",
    "\n",
    "    # Test Data Loader\n",
    "    test_loader = DataLoader(test_data,shuffle=True, \n",
    "                             batch_size=3, collate_fn=collate_test)\n",
    "\n",
    "    # Get a batch\n",
    "    batch, target = next(iter(test_loader))\n",
    "\n",
    "    # Initialize output sequence\n",
    "    output = np.zeros(target.shape, dtype=np.uint8)\n",
    "\n",
    "    # Loop over timesteps\n",
    "    for timestep in range(target.shape[1]):\n",
    "      input = batch[:,:,timestep:timestep+10]   \n",
    "      output[:,timestep]=(model(input).squeeze(1).detach().cpu().numpy()[:,9])*255.0"
   ]
  },
  {
   "cell_type": "code",
   "execution_count": 146,
   "metadata": {},
   "outputs": [
    {
     "data": {
      "image/png": "[encoded data removed]",
      "text/plain": [
       "<Figure size 936x79.2 with 10 Axes>"
      ]
     },
     "metadata": {
      "needs_background": "light"
     },
     "output_type": "display_data"
    },
    {
     "data": {
      "image/png": "[encoded data removed]",
      "text/plain": [
       "<Figure size 936x79.2 with 10 Axes>"
      ]
     },
     "metadata": {
      "needs_background": "light"
     },
     "output_type": "display_data"
    }
   ],
   "source": [
    "### for 3D evaluation only\n",
    "if entire_sequence_version:\n",
    "    seq_len=input.squeeze(1)[0].shape[0]\n",
    "    fig, axs=plt.subplots(1,10, figsize=(13,1.1))\n",
    "    ax=axs.flatten()\n",
    "    for i in range(seq_len):\n",
    "        ax[i].imshow(input.squeeze(1)[0][i].cpu().numpy() * 255, cmap='gray', vmin=0, vmax=255)\n",
    "\n",
    "    seq_len=output[0].shape[0]\n",
    "    fig, axs=plt.subplots(1,10, figsize=(13,1.1))\n",
    "    ax=axs.flatten()\n",
    "    for i in range(seq_len):\n",
    "        ax[i].imshow(output[0][i], cmap='gray', vmin=0, vmax=255)"
   ]
  },
  {
   "cell_type": "code",
   "execution_count": 147,
   "metadata": {},
   "outputs": [],
   "source": [
    "### for 2d evaluation\n",
    "if not entire_sequence_version:\n",
    "    def collate_test(batch):\n",
    "\n",
    "        # Last 10 frames are target\n",
    "        target = np.array(batch)[:,10:]                     \n",
    "\n",
    "        # Add channel dim, scale pixels between 0 and 1, send to GPU\n",
    "        batch = torch.tensor(batch).unsqueeze(1)          \n",
    "        batch = batch / 255.0                             \n",
    "        batch = batch.to(device)                          \n",
    "        return batch, target\n",
    "\n",
    "    # Test Data Loader\n",
    "    test_loader = DataLoader(test_data,shuffle=True, \n",
    "                             batch_size=3, collate_fn=collate_test)\n",
    "\n",
    "    # Get a batch\n",
    "    batch, target = next(iter(test_loader))\n",
    "\n",
    "    # Initialize output sequence\n",
    "    output = np.zeros(target.shape, dtype=np.uint8)\n",
    "\n",
    "    # Loop over timesteps\n",
    "    for timestep in range(target.shape[1]):\n",
    "      input = batch[:,:,timestep:timestep+10]   \n",
    "      output[:,timestep]=(model(input).squeeze(1).cpu()>0.5)*255.0"
   ]
  },
  {
   "cell_type": "code",
   "execution_count": 148,
   "metadata": {
    "colab": {
     "base_uri": "https://localhost:8080/",
     "height": 221,
     "referenced_widgets": [
      "dacd00a4830b4d55b90d6de6a3a24666",
      "3d243892135042a29b2070517b08ef8f",
      "c2cce59c6cfe418fa95c59b312bf67be",
      "5c25f914485544ce8850a21c5e2c434f",
      "fe1eec383b144effb72ead9319fcb66e",
      "482d9591ac8c4205ab941775f169f651",
      "b0d5e06a8808496bb5943406f5becd2c",
      "b87c4fcb875c4867b50ff3e8f232a0c3",
      "403adc06c3e74dfbb07ada068ca5d3cb",
      "9dc26d3da3c8491ca90d9a07638d5385",
      "908ceb4de6424170a8226f83ea326908",
      "6059361ed9d84a4f89ffab69b488ae8e",
      "581d2b5bb59248d2b3a5df163af75199",
      "a2388d5494924f69ab44a0ba64b515d9",
      "117c104f800b491f8ece798ce306ebe4",
      "6ca8336327bd4c9cbc1523cb6d8db356",
      "af8f0792f3f540bc8e94169e844dcd44",
      "16b83a0b83a249df89bee058764f7f96"
     ]
    },
    "execution": {
     "iopub.execute_input": "2021-06-13T06:05:50.445518Z",
     "iopub.status.busy": "2021-06-13T06:05:50.445206Z",
     "iopub.status.idle": "2021-06-13T06:05:50.787234Z",
     "shell.execute_reply": "2021-06-13T06:05:50.786431Z",
     "shell.execute_reply.started": "2021-06-13T06:05:50.445489Z"
    },
    "id": "S4skPdeeUIMG",
    "outputId": "3a7d98ca-aa95-4134-aafc-26454cebfa8c"
   },
   "outputs": [
    {
     "data": {
      "application/vnd.jupyter.widget-view+json": {
       "model_id": "11faedfe00d947e08fc34dcb80df2587",
       "version_major": 2,
       "version_minor": 0
      },
      "text/plain": [
       "HBox(children=(Image(value=b'GIF89a@\\x00@\\x00\\x87\\x00\\x00\\xff\\xff\\xff\\xfe\\xfe\\xfe\\xfd\\xfd\\xfd\\xfb\\xfb\\xfb\\xf9\\…"
      ]
     },
     "metadata": {},
     "output_type": "display_data"
    },
    {
     "data": {
      "application/vnd.jupyter.widget-view+json": {
       "model_id": "6284596dfe2d406bbc8160b1649c3a09",
       "version_major": 2,
       "version_minor": 0
      },
      "text/plain": [
       "HBox(children=(Image(value=b'GIF89a@\\x00@\\x00\\x87\\x00\\x00\\xff\\xff\\xff\\xfe\\xfe\\xfe\\xfd\\xfd\\xfd\\xfc\\xfc\\xfc\\xfb\\…"
      ]
     },
     "metadata": {},
     "output_type": "display_data"
    },
    {
     "data": {
      "application/vnd.jupyter.widget-view+json": {
       "model_id": "0eda8935a4b34e64961f80fadcc617ce",
       "version_major": 2,
       "version_minor": 0
      },
      "text/plain": [
       "HBox(children=(Image(value=b'GIF89a@\\x00@\\x00\\x87\\x00\\x00\\xff\\xff\\xff\\xfe\\xfe\\xfe\\xfd\\xfd\\xfd\\xfc\\xfc\\xfc\\xfb\\…"
      ]
     },
     "metadata": {},
     "output_type": "display_data"
    }
   ],
   "source": [
    "for tgt, out in zip(target, output):       # Loop over samples\n",
    "\n",
    "    # Write target video as gif\n",
    "    with io.BytesIO() as gif:\n",
    "        imageio.mimsave(gif, tgt, \"GIF\", fps = 5)    \n",
    "        target_gif = gif.getvalue()\n",
    "\n",
    "    # Write output video as gif\n",
    "    with io.BytesIO() as gif:\n",
    "        imageio.mimsave(gif, out, \"GIF\", fps = 5)    \n",
    "        output_gif = gif.getvalue()\n",
    "\n",
    "    display(HBox([widgets.Image(value=target_gif), \n",
    "                  widgets.Image(value=output_gif)]))"
   ]
  },
  {
   "cell_type": "code",
   "execution_count": null,
   "metadata": {},
   "outputs": [],
   "source": []
  }
 ],
 "metadata": {
  "accelerator": "GPU",
  "colab": {
   "collapsed_sections": [],
   "name": "Medium.ipynb",
   "provenance": []
  },
  "kernelspec": {
   "display_name": "Python 3",
   "language": "python",
   "name": "python3"
  },
  "language_info": {
   "codemirror_mode": {
    "name": "ipython",
    "version": 3
   },
   "file_extension": ".py",
   "mimetype": "text/x-python",
   "name": "python",
   "nbconvert_exporter": "python",
   "pygments_lexer": "ipython3",
   "version": "3.8.8"
  },
  "widgets": {
   "application/vnd.jupyter.widget-state+json": {
    "117c104f800b491f8ece798ce306ebe4": {
     "model_module": "@jupyter-widgets/controls",
     "model_name": "ImageModel",
     "state": {
      "_dom_classes": [],
      "_model_module": "@jupyter-widgets/controls",
      "_model_module_version": "1.5.0",
      "_model_name": "ImageModel",
      "_view_count": null,
      "_view_module": "@jupyter-widgets/controls",
      "_view_module_version": "1.5.0",
      "_view_name": "ImageView",
      "format": "png",
      "height": "",
      "layout": "IPY_MODEL_af8f0792f3f540bc8e94169e844dcd44",
      "width": ""
     }
    },
    "16b83a0b83a249df89bee058764f7f96": {
     "model_module": "@jupyter-widgets/base",
     "model_name": "LayoutModel",
     "state": {
      "_model_module": "@jupyter-widgets/base",
      "_model_module_version": "1.2.0",
      "_model_name": "LayoutModel",
      "_view_count": null,
      "_view_module": "@jupyter-widgets/base",
      "_view_module_version": "1.2.0",
      "_view_name": "LayoutView",
      "align_content": null,
      "align_items": null,
      "align_self": null,
      "border": null,
      "bottom": null,
      "display": null,
      "flex": null,
      "flex_flow": null,
      "grid_area": null,
      "grid_auto_columns": null,
      "grid_auto_flow": null,
      "grid_auto_rows": null,
      "grid_column": null,
      "grid_gap": null,
      "grid_row": null,
      "grid_template_areas": null,
      "grid_template_columns": null,
      "grid_template_rows": null,
      "height": null,
      "justify_content": null,
      "justify_items": null,
      "left": null,
      "margin": null,
      "max_height": null,
      "max_width": null,
      "min_height": null,
      "min_width": null,
      "object_fit": null,
      "object_position": null,
      "order": null,
      "overflow": null,
      "overflow_x": null,
      "overflow_y": null,
      "padding": null,
      "right": null,
      "top": null,
      "visibility": null,
      "width": null
     }
    },
    "1734c0ba09c6409792af467c422c2b9a": {
     "model_module": "@jupyter-widgets/base",
     "model_name": "LayoutModel",
     "state": {
      "_model_module": "@jupyter-widgets/base",
      "_model_module_version": "1.2.0",
      "_model_name": "LayoutModel",
      "_view_count": null,
      "_view_module": "@jupyter-widgets/base",
      "_view_module_version": "1.2.0",
      "_view_name": "LayoutView",
      "align_content": null,
      "align_items": null,
      "align_self": null,
      "border": null,
      "bottom": null,
      "display": null,
      "flex": null,
      "flex_flow": null,
      "grid_area": null,
      "grid_auto_columns": null,
      "grid_auto_flow": null,
      "grid_auto_rows": null,
      "grid_column": null,
      "grid_gap": null,
      "grid_row": null,
      "grid_template_areas": null,
      "grid_template_columns": null,
      "grid_template_rows": null,
      "height": null,
      "justify_content": null,
      "justify_items": null,
      "left": null,
      "margin": null,
      "max_height": null,
      "max_width": null,
      "min_height": null,
      "min_width": null,
      "object_fit": null,
      "object_position": null,
      "order": null,
      "overflow": null,
      "overflow_x": null,
      "overflow_y": null,
      "padding": null,
      "right": null,
      "top": null,
      "visibility": null,
      "width": null
     }
    },
    "1e1cbcf17f01489e82ef78f12074ead6": {
     "model_module": "@jupyter-widgets/controls",
     "model_name": "ImageModel",
     "state": {
      "_dom_classes": [],
      "_model_module": "@jupyter-widgets/controls",
      "_model_module_version": "1.5.0",
      "_model_name": "ImageModel",
      "_view_count": null,
      "_view_module": "@jupyter-widgets/controls",
      "_view_module_version": "1.5.0",
      "_view_name": "ImageView",
      "format": "png",
      "height": "",
      "layout": "IPY_MODEL_8e193e3c41fb41feaaa88251baaf2b8b",
      "width": ""
     }
    },
    "243119e5e8354b9bad3e5d2e24257429": {
     "model_module": "@jupyter-widgets/base",
     "model_name": "LayoutModel",
     "state": {
      "_model_module": "@jupyter-widgets/base",
      "_model_module_version": "1.2.0",
      "_model_name": "LayoutModel",
      "_view_count": null,
      "_view_module": "@jupyter-widgets/base",
      "_view_module_version": "1.2.0",
      "_view_name": "LayoutView",
      "align_content": null,
      "align_items": null,
      "align_self": null,
      "border": null,
      "bottom": null,
      "display": null,
      "flex": null,
      "flex_flow": null,
      "grid_area": null,
      "grid_auto_columns": null,
      "grid_auto_flow": null,
      "grid_auto_rows": null,
      "grid_column": null,
      "grid_gap": null,
      "grid_row": null,
      "grid_template_areas": null,
      "grid_template_columns": null,
      "grid_template_rows": null,
      "height": null,
      "justify_content": null,
      "justify_items": null,
      "left": null,
      "margin": null,
      "max_height": null,
      "max_width": null,
      "min_height": null,
      "min_width": null,
      "object_fit": null,
      "object_position": null,
      "order": null,
      "overflow": null,
      "overflow_x": null,
      "overflow_y": null,
      "padding": null,
      "right": null,
      "top": null,
      "visibility": null,
      "width": null
     }
    },
    "38dc5dfa134f4244b8d2811cd8dc14d1": {
     "model_module": "@jupyter-widgets/controls",
     "model_name": "ImageModel",
     "state": {
      "_dom_classes": [],
      "_model_module": "@jupyter-widgets/controls",
      "_model_module_version": "1.5.0",
      "_model_name": "ImageModel",
      "_view_count": null,
      "_view_module": "@jupyter-widgets/controls",
      "_view_module_version": "1.5.0",
      "_view_name": "ImageView",
      "format": "png",
      "height": "",
      "layout": "IPY_MODEL_1734c0ba09c6409792af467c422c2b9a",
      "width": ""
     }
    },
    "3d243892135042a29b2070517b08ef8f": {
     "model_module": "@jupyter-widgets/base",
     "model_name": "LayoutModel",
     "state": {
      "_model_module": "@jupyter-widgets/base",
      "_model_module_version": "1.2.0",
      "_model_name": "LayoutModel",
      "_view_count": null,
      "_view_module": "@jupyter-widgets/base",
      "_view_module_version": "1.2.0",
      "_view_name": "LayoutView",
      "align_content": null,
      "align_items": null,
      "align_self": null,
      "border": null,
      "bottom": null,
      "display": null,
      "flex": null,
      "flex_flow": null,
      "grid_area": null,
      "grid_auto_columns": null,
      "grid_auto_flow": null,
      "grid_auto_rows": null,
      "grid_column": null,
      "grid_gap": null,
      "grid_row": null,
      "grid_template_areas": null,
      "grid_template_columns": null,
      "grid_template_rows": null,
      "height": null,
      "justify_content": null,
      "justify_items": null,
      "left": null,
      "margin": null,
      "max_height": null,
      "max_width": null,
      "min_height": null,
      "min_width": null,
      "object_fit": null,
      "object_position": null,
      "order": null,
      "overflow": null,
      "overflow_x": null,
      "overflow_y": null,
      "padding": null,
      "right": null,
      "top": null,
      "visibility": null,
      "width": null
     }
    },
    "403adc06c3e74dfbb07ada068ca5d3cb": {
     "model_module": "@jupyter-widgets/controls",
     "model_name": "ImageModel",
     "state": {
      "_dom_classes": [],
      "_model_module": "@jupyter-widgets/controls",
      "_model_module_version": "1.5.0",
      "_model_name": "ImageModel",
      "_view_count": null,
      "_view_module": "@jupyter-widgets/controls",
      "_view_module_version": "1.5.0",
      "_view_name": "ImageView",
      "format": "png",
      "height": "",
      "layout": "IPY_MODEL_908ceb4de6424170a8226f83ea326908",
      "width": ""
     }
    },
    "412caa4a5cfb4966b4cc10113c5794e6": {
     "model_module": "@jupyter-widgets/controls",
     "model_name": "HBoxModel",
     "state": {
      "_dom_classes": [],
      "_model_module": "@jupyter-widgets/controls",
      "_model_module_version": "1.5.0",
      "_model_name": "HBoxModel",
      "_view_count": null,
      "_view_module": "@jupyter-widgets/controls",
      "_view_module_version": "1.5.0",
      "_view_name": "HBoxView",
      "box_style": "",
      "children": [
       "IPY_MODEL_bc93cef678ac461fbf15f38815a346bc"
      ],
      "layout": "IPY_MODEL_e6f49cb143d9470bbbd3a67ce58d6809"
     }
    },
    "427cadbfceb3425d826f8c15f4bfb588": {
     "model_module": "@jupyter-widgets/controls",
     "model_name": "ImageModel",
     "state": {
      "_dom_classes": [],
      "_model_module": "@jupyter-widgets/controls",
      "_model_module_version": "1.5.0",
      "_model_name": "ImageModel",
      "_view_count": null,
      "_view_module": "@jupyter-widgets/controls",
      "_view_module_version": "1.5.0",
      "_view_name": "ImageView",
      "format": "png",
      "height": "",
      "layout": "IPY_MODEL_da00bdcbd681479e9ed1fc1348093593",
      "width": ""
     }
    },
    "482d9591ac8c4205ab941775f169f651": {
     "model_module": "@jupyter-widgets/base",
     "model_name": "LayoutModel",
     "state": {
      "_model_module": "@jupyter-widgets/base",
      "_model_module_version": "1.2.0",
      "_model_name": "LayoutModel",
      "_view_count": null,
      "_view_module": "@jupyter-widgets/base",
      "_view_module_version": "1.2.0",
      "_view_name": "LayoutView",
      "align_content": null,
      "align_items": null,
      "align_self": null,
      "border": null,
      "bottom": null,
      "display": null,
      "flex": null,
      "flex_flow": null,
      "grid_area": null,
      "grid_auto_columns": null,
      "grid_auto_flow": null,
      "grid_auto_rows": null,
      "grid_column": null,
      "grid_gap": null,
      "grid_row": null,
      "grid_template_areas": null,
      "grid_template_columns": null,
      "grid_template_rows": null,
      "height": null,
      "justify_content": null,
      "justify_items": null,
      "left": null,
      "margin": null,
      "max_height": null,
      "max_width": null,
      "min_height": null,
      "min_width": null,
      "object_fit": null,
      "object_position": null,
      "order": null,
      "overflow": null,
      "overflow_x": null,
      "overflow_y": null,
      "padding": null,
      "right": null,
      "top": null,
      "visibility": null,
      "width": null
     }
    },
    "4c73bf5d0aeb44cc8304aa4d9d4d5bc4": {
     "model_module": "@jupyter-widgets/controls",
     "model_name": "HBoxModel",
     "state": {
      "_dom_classes": [],
      "_model_module": "@jupyter-widgets/controls",
      "_model_module_version": "1.5.0",
      "_model_name": "HBoxModel",
      "_view_count": null,
      "_view_module": "@jupyter-widgets/controls",
      "_view_module_version": "1.5.0",
      "_view_name": "HBoxView",
      "box_style": "",
      "children": [
       "IPY_MODEL_38dc5dfa134f4244b8d2811cd8dc14d1"
      ],
      "layout": "IPY_MODEL_243119e5e8354b9bad3e5d2e24257429"
     }
    },
    "581d2b5bb59248d2b3a5df163af75199": {
     "model_module": "@jupyter-widgets/controls",
     "model_name": "HBoxModel",
     "state": {
      "_dom_classes": [],
      "_model_module": "@jupyter-widgets/controls",
      "_model_module_version": "1.5.0",
      "_model_name": "HBoxModel",
      "_view_count": null,
      "_view_module": "@jupyter-widgets/controls",
      "_view_module_version": "1.5.0",
      "_view_name": "HBoxView",
      "box_style": "",
      "children": [
       "IPY_MODEL_117c104f800b491f8ece798ce306ebe4",
       "IPY_MODEL_6ca8336327bd4c9cbc1523cb6d8db356"
      ],
      "layout": "IPY_MODEL_a2388d5494924f69ab44a0ba64b515d9"
     }
    },
    "5c25f914485544ce8850a21c5e2c434f": {
     "model_module": "@jupyter-widgets/controls",
     "model_name": "ImageModel",
     "state": {
      "_dom_classes": [],
      "_model_module": "@jupyter-widgets/controls",
      "_model_module_version": "1.5.0",
      "_model_name": "ImageModel",
      "_view_count": null,
      "_view_module": "@jupyter-widgets/controls",
      "_view_module_version": "1.5.0",
      "_view_name": "ImageView",
      "format": "png",
      "height": "",
      "layout": "IPY_MODEL_482d9591ac8c4205ab941775f169f651",
      "width": ""
     }
    },
    "6059361ed9d84a4f89ffab69b488ae8e": {
     "model_module": "@jupyter-widgets/base",
     "model_name": "LayoutModel",
     "state": {
      "_model_module": "@jupyter-widgets/base",
      "_model_module_version": "1.2.0",
      "_model_name": "LayoutModel",
      "_view_count": null,
      "_view_module": "@jupyter-widgets/base",
      "_view_module_version": "1.2.0",
      "_view_name": "LayoutView",
      "align_content": null,
      "align_items": null,
      "align_self": null,
      "border": null,
      "bottom": null,
      "display": null,
      "flex": null,
      "flex_flow": null,
      "grid_area": null,
      "grid_auto_columns": null,
      "grid_auto_flow": null,
      "grid_auto_rows": null,
      "grid_column": null,
      "grid_gap": null,
      "grid_row": null,
      "grid_template_areas": null,
      "grid_template_columns": null,
      "grid_template_rows": null,
      "height": null,
      "justify_content": null,
      "justify_items": null,
      "left": null,
      "margin": null,
      "max_height": null,
      "max_width": null,
      "min_height": null,
      "min_width": null,
      "object_fit": null,
      "object_position": null,
      "order": null,
      "overflow": null,
      "overflow_x": null,
      "overflow_y": null,
      "padding": null,
      "right": null,
      "top": null,
      "visibility": null,
      "width": null
     }
    },
    "6ca8336327bd4c9cbc1523cb6d8db356": {
     "model_module": "@jupyter-widgets/controls",
     "model_name": "ImageModel",
     "state": {
      "_dom_classes": [],
      "_model_module": "@jupyter-widgets/controls",
      "_model_module_version": "1.5.0",
      "_model_name": "ImageModel",
      "_view_count": null,
      "_view_module": "@jupyter-widgets/controls",
      "_view_module_version": "1.5.0",
      "_view_name": "ImageView",
      "format": "png",
      "height": "",
      "layout": "IPY_MODEL_16b83a0b83a249df89bee058764f7f96",
      "width": ""
     }
    },
    "815ebfb5e3aa47aa842c2963a4ec7348": {
     "model_module": "@jupyter-widgets/base",
     "model_name": "LayoutModel",
     "state": {
      "_model_module": "@jupyter-widgets/base",
      "_model_module_version": "1.2.0",
      "_model_name": "LayoutModel",
      "_view_count": null,
      "_view_module": "@jupyter-widgets/base",
      "_view_module_version": "1.2.0",
      "_view_name": "LayoutView",
      "align_content": null,
      "align_items": null,
      "align_self": null,
      "border": null,
      "bottom": null,
      "display": null,
      "flex": null,
      "flex_flow": null,
      "grid_area": null,
      "grid_auto_columns": null,
      "grid_auto_flow": null,
      "grid_auto_rows": null,
      "grid_column": null,
      "grid_gap": null,
      "grid_row": null,
      "grid_template_areas": null,
      "grid_template_columns": null,
      "grid_template_rows": null,
      "height": null,
      "justify_content": null,
      "justify_items": null,
      "left": null,
      "margin": null,
      "max_height": null,
      "max_width": null,
      "min_height": null,
      "min_width": null,
      "object_fit": null,
      "object_position": null,
      "order": null,
      "overflow": null,
      "overflow_x": null,
      "overflow_y": null,
      "padding": null,
      "right": null,
      "top": null,
      "visibility": null,
      "width": null
     }
    },
    "86fb3ad9397c46908a65d1017731c588": {
     "model_module": "@jupyter-widgets/controls",
     "model_name": "HBoxModel",
     "state": {
      "_dom_classes": [],
      "_model_module": "@jupyter-widgets/controls",
      "_model_module_version": "1.5.0",
      "_model_name": "HBoxModel",
      "_view_count": null,
      "_view_module": "@jupyter-widgets/controls",
      "_view_module_version": "1.5.0",
      "_view_name": "HBoxView",
      "box_style": "",
      "children": [
       "IPY_MODEL_427cadbfceb3425d826f8c15f4bfb588"
      ],
      "layout": "IPY_MODEL_d3b408b7308c40f28ccd2b4f94ed434a"
     }
    },
    "8e193e3c41fb41feaaa88251baaf2b8b": {
     "model_module": "@jupyter-widgets/base",
     "model_name": "LayoutModel",
     "state": {
      "_model_module": "@jupyter-widgets/base",
      "_model_module_version": "1.2.0",
      "_model_name": "LayoutModel",
      "_view_count": null,
      "_view_module": "@jupyter-widgets/base",
      "_view_module_version": "1.2.0",
      "_view_name": "LayoutView",
      "align_content": null,
      "align_items": null,
      "align_self": null,
      "border": null,
      "bottom": null,
      "display": null,
      "flex": null,
      "flex_flow": null,
      "grid_area": null,
      "grid_auto_columns": null,
      "grid_auto_flow": null,
      "grid_auto_rows": null,
      "grid_column": null,
      "grid_gap": null,
      "grid_row": null,
      "grid_template_areas": null,
      "grid_template_columns": null,
      "grid_template_rows": null,
      "height": null,
      "justify_content": null,
      "justify_items": null,
      "left": null,
      "margin": null,
      "max_height": null,
      "max_width": null,
      "min_height": null,
      "min_width": null,
      "object_fit": null,
      "object_position": null,
      "order": null,
      "overflow": null,
      "overflow_x": null,
      "overflow_y": null,
      "padding": null,
      "right": null,
      "top": null,
      "visibility": null,
      "width": null
     }
    },
    "8e626c59c3b04e2bb1435b5eb9a104dd": {
     "model_module": "@jupyter-widgets/base",
     "model_name": "LayoutModel",
     "state": {
      "_model_module": "@jupyter-widgets/base",
      "_model_module_version": "1.2.0",
      "_model_name": "LayoutModel",
      "_view_count": null,
      "_view_module": "@jupyter-widgets/base",
      "_view_module_version": "1.2.0",
      "_view_name": "LayoutView",
      "align_content": null,
      "align_items": null,
      "align_self": null,
      "border": null,
      "bottom": null,
      "display": null,
      "flex": null,
      "flex_flow": null,
      "grid_area": null,
      "grid_auto_columns": null,
      "grid_auto_flow": null,
      "grid_auto_rows": null,
      "grid_column": null,
      "grid_gap": null,
      "grid_row": null,
      "grid_template_areas": null,
      "grid_template_columns": null,
      "grid_template_rows": null,
      "height": null,
      "justify_content": null,
      "justify_items": null,
      "left": null,
      "margin": null,
      "max_height": null,
      "max_width": null,
      "min_height": null,
      "min_width": null,
      "object_fit": null,
      "object_position": null,
      "order": null,
      "overflow": null,
      "overflow_x": null,
      "overflow_y": null,
      "padding": null,
      "right": null,
      "top": null,
      "visibility": null,
      "width": null
     }
    },
    "8f0619da032b4215933c03e53ff93425": {
     "model_module": "@jupyter-widgets/controls",
     "model_name": "HBoxModel",
     "state": {
      "_dom_classes": [],
      "_model_module": "@jupyter-widgets/controls",
      "_model_module_version": "1.5.0",
      "_model_name": "HBoxModel",
      "_view_count": null,
      "_view_module": "@jupyter-widgets/controls",
      "_view_module_version": "1.5.0",
      "_view_name": "HBoxView",
      "box_style": "",
      "children": [
       "IPY_MODEL_1e1cbcf17f01489e82ef78f12074ead6"
      ],
      "layout": "IPY_MODEL_815ebfb5e3aa47aa842c2963a4ec7348"
     }
    },
    "908ceb4de6424170a8226f83ea326908": {
     "model_module": "@jupyter-widgets/base",
     "model_name": "LayoutModel",
     "state": {
      "_model_module": "@jupyter-widgets/base",
      "_model_module_version": "1.2.0",
      "_model_name": "LayoutModel",
      "_view_count": null,
      "_view_module": "@jupyter-widgets/base",
      "_view_module_version": "1.2.0",
      "_view_name": "LayoutView",
      "align_content": null,
      "align_items": null,
      "align_self": null,
      "border": null,
      "bottom": null,
      "display": null,
      "flex": null,
      "flex_flow": null,
      "grid_area": null,
      "grid_auto_columns": null,
      "grid_auto_flow": null,
      "grid_auto_rows": null,
      "grid_column": null,
      "grid_gap": null,
      "grid_row": null,
      "grid_template_areas": null,
      "grid_template_columns": null,
      "grid_template_rows": null,
      "height": null,
      "justify_content": null,
      "justify_items": null,
      "left": null,
      "margin": null,
      "max_height": null,
      "max_width": null,
      "min_height": null,
      "min_width": null,
      "object_fit": null,
      "object_position": null,
      "order": null,
      "overflow": null,
      "overflow_x": null,
      "overflow_y": null,
      "padding": null,
      "right": null,
      "top": null,
      "visibility": null,
      "width": null
     }
    },
    "9dc26d3da3c8491ca90d9a07638d5385": {
     "model_module": "@jupyter-widgets/controls",
     "model_name": "ImageModel",
     "state": {
      "_dom_classes": [],
      "_model_module": "@jupyter-widgets/controls",
      "_model_module_version": "1.5.0",
      "_model_name": "ImageModel",
      "_view_count": null,
      "_view_module": "@jupyter-widgets/controls",
      "_view_module_version": "1.5.0",
      "_view_name": "ImageView",
      "format": "png",
      "height": "",
      "layout": "IPY_MODEL_6059361ed9d84a4f89ffab69b488ae8e",
      "width": ""
     }
    },
    "a2388d5494924f69ab44a0ba64b515d9": {
     "model_module": "@jupyter-widgets/base",
     "model_name": "LayoutModel",
     "state": {
      "_model_module": "@jupyter-widgets/base",
      "_model_module_version": "1.2.0",
      "_model_name": "LayoutModel",
      "_view_count": null,
      "_view_module": "@jupyter-widgets/base",
      "_view_module_version": "1.2.0",
      "_view_name": "LayoutView",
      "align_content": null,
      "align_items": null,
      "align_self": null,
      "border": null,
      "bottom": null,
      "display": null,
      "flex": null,
      "flex_flow": null,
      "grid_area": null,
      "grid_auto_columns": null,
      "grid_auto_flow": null,
      "grid_auto_rows": null,
      "grid_column": null,
      "grid_gap": null,
      "grid_row": null,
      "grid_template_areas": null,
      "grid_template_columns": null,
      "grid_template_rows": null,
      "height": null,
      "justify_content": null,
      "justify_items": null,
      "left": null,
      "margin": null,
      "max_height": null,
      "max_width": null,
      "min_height": null,
      "min_width": null,
      "object_fit": null,
      "object_position": null,
      "order": null,
      "overflow": null,
      "overflow_x": null,
      "overflow_y": null,
      "padding": null,
      "right": null,
      "top": null,
      "visibility": null,
      "width": null
     }
    },
    "af8f0792f3f540bc8e94169e844dcd44": {
     "model_module": "@jupyter-widgets/base",
     "model_name": "LayoutModel",
     "state": {
      "_model_module": "@jupyter-widgets/base",
      "_model_module_version": "1.2.0",
      "_model_name": "LayoutModel",
      "_view_count": null,
      "_view_module": "@jupyter-widgets/base",
      "_view_module_version": "1.2.0",
      "_view_name": "LayoutView",
      "align_content": null,
      "align_items": null,
      "align_self": null,
      "border": null,
      "bottom": null,
      "display": null,
      "flex": null,
      "flex_flow": null,
      "grid_area": null,
      "grid_auto_columns": null,
      "grid_auto_flow": null,
      "grid_auto_rows": null,
      "grid_column": null,
      "grid_gap": null,
      "grid_row": null,
      "grid_template_areas": null,
      "grid_template_columns": null,
      "grid_template_rows": null,
      "height": null,
      "justify_content": null,
      "justify_items": null,
      "left": null,
      "margin": null,
      "max_height": null,
      "max_width": null,
      "min_height": null,
      "min_width": null,
      "object_fit": null,
      "object_position": null,
      "order": null,
      "overflow": null,
      "overflow_x": null,
      "overflow_y": null,
      "padding": null,
      "right": null,
      "top": null,
      "visibility": null,
      "width": null
     }
    },
    "b0d5e06a8808496bb5943406f5becd2c": {
     "model_module": "@jupyter-widgets/controls",
     "model_name": "HBoxModel",
     "state": {
      "_dom_classes": [],
      "_model_module": "@jupyter-widgets/controls",
      "_model_module_version": "1.5.0",
      "_model_name": "HBoxModel",
      "_view_count": null,
      "_view_module": "@jupyter-widgets/controls",
      "_view_module_version": "1.5.0",
      "_view_name": "HBoxView",
      "box_style": "",
      "children": [
       "IPY_MODEL_403adc06c3e74dfbb07ada068ca5d3cb",
       "IPY_MODEL_9dc26d3da3c8491ca90d9a07638d5385"
      ],
      "layout": "IPY_MODEL_b87c4fcb875c4867b50ff3e8f232a0c3"
     }
    },
    "b87c4fcb875c4867b50ff3e8f232a0c3": {
     "model_module": "@jupyter-widgets/base",
     "model_name": "LayoutModel",
     "state": {
      "_model_module": "@jupyter-widgets/base",
      "_model_module_version": "1.2.0",
      "_model_name": "LayoutModel",
      "_view_count": null,
      "_view_module": "@jupyter-widgets/base",
      "_view_module_version": "1.2.0",
      "_view_name": "LayoutView",
      "align_content": null,
      "align_items": null,
      "align_self": null,
      "border": null,
      "bottom": null,
      "display": null,
      "flex": null,
      "flex_flow": null,
      "grid_area": null,
      "grid_auto_columns": null,
      "grid_auto_flow": null,
      "grid_auto_rows": null,
      "grid_column": null,
      "grid_gap": null,
      "grid_row": null,
      "grid_template_areas": null,
      "grid_template_columns": null,
      "grid_template_rows": null,
      "height": null,
      "justify_content": null,
      "justify_items": null,
      "left": null,
      "margin": null,
      "max_height": null,
      "max_width": null,
      "min_height": null,
      "min_width": null,
      "object_fit": null,
      "object_position": null,
      "order": null,
      "overflow": null,
      "overflow_x": null,
      "overflow_y": null,
      "padding": null,
      "right": null,
      "top": null,
      "visibility": null,
      "width": null
     }
    },
    "bc93cef678ac461fbf15f38815a346bc": {
     "model_module": "@jupyter-widgets/controls",
     "model_name": "ImageModel",
     "state": {
      "_dom_classes": [],
      "_model_module": "@jupyter-widgets/controls",
      "_model_module_version": "1.5.0",
      "_model_name": "ImageModel",
      "_view_count": null,
      "_view_module": "@jupyter-widgets/controls",
      "_view_module_version": "1.5.0",
      "_view_name": "ImageView",
      "format": "png",
      "height": "",
      "layout": "IPY_MODEL_8e626c59c3b04e2bb1435b5eb9a104dd",
      "width": ""
     }
    },
    "c2cce59c6cfe418fa95c59b312bf67be": {
     "model_module": "@jupyter-widgets/controls",
     "model_name": "ImageModel",
     "state": {
      "_dom_classes": [],
      "_model_module": "@jupyter-widgets/controls",
      "_model_module_version": "1.5.0",
      "_model_name": "ImageModel",
      "_view_count": null,
      "_view_module": "@jupyter-widgets/controls",
      "_view_module_version": "1.5.0",
      "_view_name": "ImageView",
      "format": "png",
      "height": "",
      "layout": "IPY_MODEL_fe1eec383b144effb72ead9319fcb66e",
      "width": ""
     }
    },
    "d3b408b7308c40f28ccd2b4f94ed434a": {
     "model_module": "@jupyter-widgets/base",
     "model_name": "LayoutModel",
     "state": {
      "_model_module": "@jupyter-widgets/base",
      "_model_module_version": "1.2.0",
      "_model_name": "LayoutModel",
      "_view_count": null,
      "_view_module": "@jupyter-widgets/base",
      "_view_module_version": "1.2.0",
      "_view_name": "LayoutView",
      "align_content": null,
      "align_items": null,
      "align_self": null,
      "border": null,
      "bottom": null,
      "display": null,
      "flex": null,
      "flex_flow": null,
      "grid_area": null,
      "grid_auto_columns": null,
      "grid_auto_flow": null,
      "grid_auto_rows": null,
      "grid_column": null,
      "grid_gap": null,
      "grid_row": null,
      "grid_template_areas": null,
      "grid_template_columns": null,
      "grid_template_rows": null,
      "height": null,
      "justify_content": null,
      "justify_items": null,
      "left": null,
      "margin": null,
      "max_height": null,
      "max_width": null,
      "min_height": null,
      "min_width": null,
      "object_fit": null,
      "object_position": null,
      "order": null,
      "overflow": null,
      "overflow_x": null,
      "overflow_y": null,
      "padding": null,
      "right": null,
      "top": null,
      "visibility": null,
      "width": null
     }
    },
    "da00bdcbd681479e9ed1fc1348093593": {
     "model_module": "@jupyter-widgets/base",
     "model_name": "LayoutModel",
     "state": {
      "_model_module": "@jupyter-widgets/base",
      "_model_module_version": "1.2.0",
      "_model_name": "LayoutModel",
      "_view_count": null,
      "_view_module": "@jupyter-widgets/base",
      "_view_module_version": "1.2.0",
      "_view_name": "LayoutView",
      "align_content": null,
      "align_items": null,
      "align_self": null,
      "border": null,
      "bottom": null,
      "display": null,
      "flex": null,
      "flex_flow": null,
      "grid_area": null,
      "grid_auto_columns": null,
      "grid_auto_flow": null,
      "grid_auto_rows": null,
      "grid_column": null,
      "grid_gap": null,
      "grid_row": null,
      "grid_template_areas": null,
      "grid_template_columns": null,
      "grid_template_rows": null,
      "height": null,
      "justify_content": null,
      "justify_items": null,
      "left": null,
      "margin": null,
      "max_height": null,
      "max_width": null,
      "min_height": null,
      "min_width": null,
      "object_fit": null,
      "object_position": null,
      "order": null,
      "overflow": null,
      "overflow_x": null,
      "overflow_y": null,
      "padding": null,
      "right": null,
      "top": null,
      "visibility": null,
      "width": null
     }
    },
    "dacd00a4830b4d55b90d6de6a3a24666": {
     "model_module": "@jupyter-widgets/controls",
     "model_name": "HBoxModel",
     "state": {
      "_dom_classes": [],
      "_model_module": "@jupyter-widgets/controls",
      "_model_module_version": "1.5.0",
      "_model_name": "HBoxModel",
      "_view_count": null,
      "_view_module": "@jupyter-widgets/controls",
      "_view_module_version": "1.5.0",
      "_view_name": "HBoxView",
      "box_style": "",
      "children": [
       "IPY_MODEL_c2cce59c6cfe418fa95c59b312bf67be",
       "IPY_MODEL_5c25f914485544ce8850a21c5e2c434f"
      ],
      "layout": "IPY_MODEL_3d243892135042a29b2070517b08ef8f"
     }
    },
    "e6f49cb143d9470bbbd3a67ce58d6809": {
     "model_module": "@jupyter-widgets/base",
     "model_name": "LayoutModel",
     "state": {
      "_model_module": "@jupyter-widgets/base",
      "_model_module_version": "1.2.0",
      "_model_name": "LayoutModel",
      "_view_count": null,
      "_view_module": "@jupyter-widgets/base",
      "_view_module_version": "1.2.0",
      "_view_name": "LayoutView",
      "align_content": null,
      "align_items": null,
      "align_self": null,
      "border": null,
      "bottom": null,
      "display": null,
      "flex": null,
      "flex_flow": null,
      "grid_area": null,
      "grid_auto_columns": null,
      "grid_auto_flow": null,
      "grid_auto_rows": null,
      "grid_column": null,
      "grid_gap": null,
      "grid_row": null,
      "grid_template_areas": null,
      "grid_template_columns": null,
      "grid_template_rows": null,
      "height": null,
      "justify_content": null,
      "justify_items": null,
      "left": null,
      "margin": null,
      "max_height": null,
      "max_width": null,
      "min_height": null,
      "min_width": null,
      "object_fit": null,
      "object_position": null,
      "order": null,
      "overflow": null,
      "overflow_x": null,
      "overflow_y": null,
      "padding": null,
      "right": null,
      "top": null,
      "visibility": null,
      "width": null
     }
    },
    "fe1eec383b144effb72ead9319fcb66e": {
     "model_module": "@jupyter-widgets/base",
     "model_name": "LayoutModel",
     "state": {
      "_model_module": "@jupyter-widgets/base",
      "_model_module_version": "1.2.0",
      "_model_name": "LayoutModel",
      "_view_count": null,
      "_view_module": "@jupyter-widgets/base",
      "_view_module_version": "1.2.0",
      "_view_name": "LayoutView",
      "align_content": null,
      "align_items": null,
      "align_self": null,
      "border": null,
      "bottom": null,
      "display": null,
      "flex": null,
      "flex_flow": null,
      "grid_area": null,
      "grid_auto_columns": null,
      "grid_auto_flow": null,
      "grid_auto_rows": null,
      "grid_column": null,
      "grid_gap": null,
      "grid_row": null,
      "grid_template_areas": null,
      "grid_template_columns": null,
      "grid_template_rows": null,
      "height": null,
      "justify_content": null,
      "justify_items": null,
      "left": null,
      "margin": null,
      "max_height": null,
      "max_width": null,
      "min_height": null,
      "min_width": null,
      "object_fit": null,
      "object_position": null,
      "order": null,
      "overflow": null,
      "overflow_x": null,
      "overflow_y": null,
      "padding": null,
      "right": null,
      "top": null,
      "visibility": null,
      "width": null
     }
    }
   }
  }
 },
 "nbformat": 4,
 "nbformat_minor": 1
}
