{
 "cells": [
  {
   "cell_type": "code",
   "execution_count": 31,
   "id": "1e54a4b9",
   "metadata": {},
   "outputs": [],
   "source": [
    "import numpy as np\n",
    "import pandas as pd\n",
    "import matplotlib.pyplot as plt\n",
    "import geopandas as gpd\n",
    "import rasterio as rio\n",
    "from rasterio.features import rasterize\n",
    "from tqdm import tqdm\n",
    "import os\n",
    "\n",
    "output_dir = \"../output/\""
   ]
  },
  {
   "cell_type": "code",
   "execution_count": 2,
   "id": "0ee95aee",
   "metadata": {},
   "outputs": [],
   "source": [
    "# load landcover and NDVI data\n",
    "lc_crop = np.load(\"../data/lc_crop_all.npy\")\n",
    "ndvi = np.load(\"../data/ndvi_all.npy\")"
   ]
  },
  {
   "cell_type": "code",
   "execution_count": 3,
   "id": "f33d4dae",
   "metadata": {},
   "outputs": [
    {
     "data": {
      "text/plain": [
       "<matplotlib.image.AxesImage at 0x7ff491b63ca0>"
      ]
     },
     "execution_count": 3,
     "metadata": {},
     "output_type": "execute_result"
    },
    {
     "data": {
      "image/png": "[encoded data removed]",
      "text/plain": [
       "<Figure size 432x288 with 1 Axes>"
      ]
     },
     "metadata": {
      "needs_background": "light"
     },
     "output_type": "display_data"
    }
   ],
   "source": [
    "plt.imshow(ndvi[0])"
   ]
  },
  {
   "cell_type": "code",
   "execution_count": 4,
   "id": "9c9d1598",
   "metadata": {},
   "outputs": [
    {
     "data": {
      "text/plain": [
       "<matplotlib.image.AxesImage at 0x7ff491d13700>"
      ]
     },
     "execution_count": 4,
     "metadata": {},
     "output_type": "execute_result"
    },
    {
     "data": {
      "image/png": "[encoded data removed]",
      "text/plain": [
       "<Figure size 432x288 with 1 Axes>"
      ]
     },
     "metadata": {
      "needs_background": "light"
     },
     "output_type": "display_data"
    }
   ],
   "source": [
    "plt.imshow(lc_crop[0])"
   ]
  },
  {
   "cell_type": "code",
   "execution_count": 5,
   "id": "5c3190a2",
   "metadata": {},
   "outputs": [],
   "source": [
    "# load fire event data\n",
    "fire_event_df = gpd.read_file('../data/fired_conus-ak_events_nov2001-march2021.gpkg')\n",
    "fire_day_df=gpd.read_file('../data/fired_conus-ak_daily_nov2001-march2021.gpkg')"
   ]
  },
  {
   "cell_type": "markdown",
   "id": "51ccdbb4",
   "metadata": {},
   "source": [
    "## Select the medium scale fire events "
   ]
  },
  {
   "cell_type": "code",
   "execution_count": 6,
   "id": "9df15ccd",
   "metadata": {},
   "outputs": [
    {
     "name": "stderr",
     "output_type": "stream",
     "text": [
      "/opt/anaconda3/lib/python3.8/site-packages/geopandas/geodataframe.py:1351: SettingWithCopyWarning: \n",
      "A value is trying to be set on a copy of a slice from a DataFrame.\n",
      "Try using .loc[row_indexer,col_indexer] = value instead\n",
      "\n",
      "See the caveats in the documentation: https://pandas.pydata.org/pandas-docs/stable/user_guide/indexing.html#returning-a-view-versus-a-copy\n",
      "  super().__setitem__(key, value)\n"
     ]
    }
   ],
   "source": [
    "medium_fire_event=fire_event_df[(fire_event_df.area >= 10e6) & (fire_event_df.area <= 30e6) & (fire_event_df.event_dur > 3)]\n",
    "medium_event_bounds=medium_fire_event.bounds\n",
    "medium_event_bounds[\"width\"]=((medium_event_bounds[\"maxx\"]-medium_event_bounds[\"minx\"])/463.3127165283333).astype(int)\n",
    "medium_event_bounds[\"height\"]=((medium_event_bounds[\"maxy\"]-medium_event_bounds[\"miny\"])/463.3127165283333).astype(int)\n",
    "\n",
    "def return_transform_object(west, south, east, north, width, height):\n",
    "    return rio.transform.from_bounds(west, south, east, north, width, height)\n",
    "\n",
    "medium_event_bounds[\"transform\"]=medium_event_bounds.apply(lambda x: return_transform_object(x[\"minx\"], x[\"miny\"], x[\"maxx\"], x[\"maxy\"], x[\"width\"], x[\"height\"]), axis=1)\n",
    "medium_fire_event=medium_fire_event.join(medium_event_bounds)\n",
    "\n",
    "medium_fire_day=fire_day_df[[True if a in medium_fire_event[\"id\"].values else False for a in fire_day_df[\"id\"] ]]\n",
    "\n",
    "medium_fire_day[\"event_id\"]=medium_fire_day[\"id\"].values\n",
    "medium_fire_event[\"event_id\"]=medium_fire_event[\"id\"].values\n",
    "\n",
    "medium_fire_event[\"date\"]=pd.to_datetime(medium_fire_event[\"ig_date\"])\n",
    "medium_fire_event[\"envelope_centroid\"]=medium_fire_event.envelope.centroid.to_crs(\"EPSG:4326\")"
   ]
  },
  {
   "cell_type": "markdown",
   "id": "1005c7ba",
   "metadata": {},
   "source": [
    "## Add landcover and NDVI data into the dataset"
   ]
  },
  {
   "cell_type": "code",
   "execution_count": 7,
   "id": "9fa48fc3",
   "metadata": {},
   "outputs": [],
   "source": [
    "medium_fire_event[\"ndvi\"]=lc_crop.tolist()\n",
    "medium_fire_event[\"land_cover\"]=ndvi.tolist()"
   ]
  },
  {
   "cell_type": "markdown",
   "id": "4639b970",
   "metadata": {},
   "source": [
    "## Add digital elevation model"
   ]
  },
  {
   "cell_type": "code",
   "execution_count": 8,
   "id": "717fc2ba",
   "metadata": {},
   "outputs": [],
   "source": [
    "dem_img=rio.open(\"../data/US_GMTED_MODIS.tif\")\n",
    "dem=dem_img.read(1)"
   ]
  },
  {
   "cell_type": "code",
   "execution_count": 9,
   "id": "58a040ae",
   "metadata": {},
   "outputs": [],
   "source": [
    "dem_list=[]\n",
    "for i in range(len(medium_fire_event)):\n",
    "    g=medium_fire_event.iloc[i].geometry.bounds\n",
    "    ul=list(rio.transform.rowcol(dem_img.transform, g[0], g[3]))\n",
    "    cell_size=463.43036\n",
    "    x_err=(rio.transform.xy(dem_img.transform, ul[0], ul[1])[0]-463.43036/2)-g[0]\n",
    "    y_err=(rio.transform.xy(dem_img.transform, ul[0], ul[1])[1]+463.43036/2)-g[3]\n",
    "    \n",
    "    if x_err < -cell_size/2:\n",
    "        ul[1]=ul[1]+1\n",
    "    elif (x_err > cell_size/2):\n",
    "        ul[1]=ul[1]-1\n",
    "\n",
    "    if y_err > cell_size/2:\n",
    "        ul[0]=ul[0]+1\n",
    "    elif y_err < -cell_size/2:\n",
    "        ul[0]=ul[0]-1\n",
    "   \n",
    "    h=medium_fire_event.iloc[i].height\n",
    "    w=medium_fire_event.iloc[i].width\n",
    "    \n",
    "    \n",
    "    dim=32\n",
    "\n",
    "    h_dif=dim-h\n",
    "    w_dif=dim-w\n",
    "    left_pad=w_dif//2\n",
    "    right_pad=w_dif-left_pad\n",
    "    top_pad=h_dif//2\n",
    "    bottom_pad=h_dif-top_pad\n",
    "    \n",
    "    dem_crop=dem[ul[0]-top_pad:ul[0]+h+bottom_pad, ul[1]-left_pad:ul[1]+w+right_pad]\n",
    "    \n",
    "    dem_list.append(dem_crop)\n",
    "    "
   ]
  },
  {
   "cell_type": "code",
   "execution_count": 10,
   "id": "16a16c01",
   "metadata": {},
   "outputs": [],
   "source": [
    "medium_fire_event[\"dem\"]=dem_list"
   ]
  },
  {
   "cell_type": "code",
   "execution_count": 11,
   "id": "f7671ce5",
   "metadata": {},
   "outputs": [],
   "source": [
    "#dem[ul[0]-top_pad:ul[0]+h+bottom_pad, ul[1]-left_pad:ul[1]+w+right_pad]\n",
    "#dem[-1258438253,-1881336129]\n",
    "#ul[0]-top_pad\n",
    "dem_crop=dem[ul[0]-top_pad:ul[0]+h+bottom_pad, ul[1]-left_pad:ul[1]+w+right_pad]"
   ]
  },
  {
   "cell_type": "markdown",
   "id": "714d5ffd",
   "metadata": {},
   "source": [
    "## Rasterize"
   ]
  },
  {
   "cell_type": "code",
   "execution_count": 17,
   "id": "2405f579",
   "metadata": {},
   "outputs": [],
   "source": [
    "medium_fire=medium_fire_day.merge(medium_fire_event[[\"event_id\", \"minx\", \"miny\", \"maxx\", \"maxy\", \"width\", \"height\", \"transform\", \"dem\", \"ndvi\", \"land_cover\", \"envelope_centroid\"]], on=\"event_id\")\n",
    "medium_fire=medium_fire[(medium_fire.width < 32) & (medium_fire.height < 32)]\n",
    "\n",
    "def return_raster(geom, height, width, trans):\n",
    "    return rasterize([geom,], out_shape=(height, width), transform=trans)\n",
    "medium_fire[\"raster\"]=medium_fire.apply(lambda x: return_raster(x[\"geometry\"], x[\"height\"], x[\"width\"], x[\"transform\"]), axis=1)\n",
    "\n",
    "def padding(org, dim=32):\n",
    "    h=org.shape[0]\n",
    "    w=org.shape[1]\n",
    "    h_dif=dim-h\n",
    "    w_dif=dim-w\n",
    "    left_pad=w_dif//2\n",
    "    right_pad=w_dif-left_pad\n",
    "    top_pad=h_dif//2\n",
    "    bottom_pad=h_dif-top_pad\n",
    "    return np.pad(org, ((top_pad, bottom_pad), (left_pad, right_pad)), 'constant', constant_values=0)\n",
    "\n",
    "medium_fire[\"padded_raster\"]=medium_fire[\"raster\"].apply(padding)"
   ]
  },
  {
   "cell_type": "code",
   "execution_count": 18,
   "id": "26a6a900",
   "metadata": {},
   "outputs": [
    {
     "data": {
      "image/png": "[encoded data removed]",
      "text/plain": [
       "<Figure size 1440x1440 with 30 Axes>"
      ]
     },
     "metadata": {
      "needs_background": "light"
     },
     "output_type": "display_data"
    }
   ],
   "source": [
    "fig, axs=plt.subplots(5,6, figsize=(20,20))\n",
    "ax=axs.flatten()\n",
    "longest_fire=medium_fire[medium_fire.event_id==154860]\n",
    "for i in range(30):\n",
    "    ax[i].imshow(longest_fire[\"padded_raster\"].iloc[i])\n",
    "    ax[i].set_title(\"Fire Day {}\".format(longest_fire[\"event_day\"].iloc[i]))"
   ]
  },
  {
   "cell_type": "markdown",
   "id": "aa7a7c93",
   "metadata": {},
   "source": [
    "## Get meterological variables"
   ]
  },
  {
   "cell_type": "code",
   "execution_count": 19,
   "id": "7168deb7",
   "metadata": {},
   "outputs": [],
   "source": [
    "import urllib3\n",
    "import urllib\n",
    "import cdsapi\n",
    "urllib3.disable_warnings(urllib3.exceptions.InsecureRequestWarning)\n",
    "c = cdsapi.Client(quiet=True)"
   ]
  },
  {
   "cell_type": "code",
   "execution_count": 20,
   "id": "c928985b",
   "metadata": {},
   "outputs": [],
   "source": [
    "medium_fire[\"date\"]=pd.to_datetime(medium_fire.date)"
   ]
  },
  {
   "cell_type": "code",
   "execution_count": 21,
   "id": "2dec07ca",
   "metadata": {},
   "outputs": [],
   "source": [
    "medium_fire_no_ak=medium_fire[[medium_fire[\"envelope_centroid\"].iloc[i].__geo_interface__[\"coordinates\"][1] < 49.5 for i in range(len(medium_fire))]]\n",
    "medium_fire_no_ak_hi=medium_fire_no_ak[[medium_fire_no_ak[\"envelope_centroid\"].iloc[i].__geo_interface__[\"coordinates\"][0] > -125 for i in range(len(medium_fire_no_ak))]]"
   ]
  },
  {
   "cell_type": "code",
   "execution_count": 22,
   "id": "b7c0f410",
   "metadata": {},
   "outputs": [],
   "source": [
    "id_list=np.sort(np.unique(medium_fire_no_ak_hi[\"event_id\"].values))"
   ]
  },
  {
   "cell_type": "code",
   "execution_count": 23,
   "id": "34ee0013",
   "metadata": {},
   "outputs": [
    {
     "name": "stderr",
     "output_type": "stream",
     "text": [
      "/opt/anaconda3/lib/python3.8/site-packages/geopandas/geodataframe.py:1351: SettingWithCopyWarning: \n",
      "A value is trying to be set on a copy of a slice from a DataFrame.\n",
      "Try using .loc[row_indexer,col_indexer] = value instead\n",
      "\n",
      "See the caveats in the documentation: https://pandas.pydata.org/pandas-docs/stable/user_guide/indexing.html#returning-a-view-versus-a-copy\n",
      "  super().__setitem__(key, value)\n"
     ]
    }
   ],
   "source": [
    "medium_fire_no_ak_hi[\"ndvi\"]=[np.array(d) for d in medium_fire_no_ak_hi[\"ndvi\"]]"
   ]
  },
  {
   "cell_type": "code",
   "execution_count": 24,
   "id": "b43cd5ad",
   "metadata": {},
   "outputs": [],
   "source": [
    "medium_fire_no_ak_hi[\"land_cover\"]=[np.array(d) for d in medium_fire_no_ak_hi[\"land_cover\"]]"
   ]
  },
  {
   "cell_type": "code",
   "execution_count": 25,
   "id": "6fdac25a",
   "metadata": {},
   "outputs": [],
   "source": [
    "stack_list=[]"
   ]
  },
  {
   "cell_type": "code",
   "execution_count": 29,
   "id": "280b8b4a",
   "metadata": {},
   "outputs": [
    {
     "name": "stderr",
     "output_type": "stream",
     "text": [
      "100%|██████████████████████████████████████| 5079/5079 [00:06<00:00, 743.10it/s]\n"
     ]
    }
   ],
   "source": [
    "for i in tqdm(range(len(id_list))):\n",
    "    temp_df=medium_fire_no_ak_hi[medium_fire_no_ak_hi[\"event_id\"]==id_list[i]]\n",
    "    fire_stack=np.stack(temp_df[\"padded_raster\"].to_numpy())\n",
    "    ndvi_stack=np.stack(temp_df[\"ndvi\"].to_numpy())\n",
    "    lc_stack=np.stack(temp_df[\"land_cover\"].to_numpy())\n",
    "    #dem_stack=np.stack(temp_df[\"dem\"].to_numpy())\n",
    "    #stack=np.stack([fire_stack, ndvi_stack, lc_stack, dem_stack])\n",
    "    stack=np.stack([fire_stack, ndvi_stack, lc_stack])\n",
    "    stack_list.append(stack)"
   ]
  },
  {
   "cell_type": "code",
   "execution_count": 34,
   "id": "4f7f8c95",
   "metadata": {},
   "outputs": [],
   "source": [
    "import pickle\n",
    "with open(output_dir+\"fire_conus_no_meteo_and_dem.pickle\", \"wb\") as fp:   #Pickling\n",
    "    pickle.dump(stack_list, fp)"
   ]
  },
  {
   "cell_type": "code",
   "execution_count": null,
   "id": "be0e2ca7",
   "metadata": {},
   "outputs": [],
   "source": [
    "%%time\n",
    "u10_list=[]\n",
    "v10_list=[]\n",
    "t2m_list=[]\n",
    "\n",
    "from tqdm.notebook import tqdm\n",
    "import xarray as xr\n",
    "\n",
    "for i in tqdm(range(len(medium_fire_no_ak_hi))):\n",
    "    c = cdsapi.Client(quiet=True)\n",
    "    env_cen_x=medium_fire_no_ak_hi[\"envelope_centroid\"].iloc[i].__geo_interface__[\"coordinates\"][0]\n",
    "    env_cen_y=medium_fire_no_ak_hi[\"envelope_centroid\"].iloc[i].__geo_interface__[\"coordinates\"][1]\n",
    "    hour=((np.array([2, 8, 14,  22]) - np.floor((-125+ 7.5) / 15)) % 24).tolist()\n",
    "    this_day=medium_fire_no_ak_hi[\"date\"].iloc[i]\n",
    "    next_day=this_day+np.timedelta64(1, 'D')\n",
    "\n",
    "    day_list=[]\n",
    "    month_list=[]\n",
    "    year_list=[]\n",
    "    \n",
    "    day_list.append(this_day.day)\n",
    "    day_list.append(next_day.day)\n",
    "    month_list.append(this_day.month)\n",
    "    year_list.append(this_day.year)    \n",
    "    if this_day.month != next_day.month:\n",
    "        month_list.append(next_day.month)\n",
    "    if this_day.year != next_day.year:\n",
    "        year_list.append(next_day.year)\n",
    "\n",
    "    day_list=[str(d).zfill(2) for d in day_list]\n",
    "    month_list=[str(m).zfill(2) for m in month_list]\n",
    "    year_list=[str(y) for y in year_list]\n",
    "\n",
    "    fl=c.retrieve(\n",
    "        'reanalysis-era5-land',\n",
    "        {\n",
    "            'format': 'netcdf',\n",
    "            'variable': [\n",
    "                '10m_u_component_of_wind', '10m_v_component_of_wind', '2m_temperature',\n",
    "            ],\n",
    "            'day': day_list,\n",
    "            'year': year_list,\n",
    "            'month': month_list,\n",
    "            'time': [str(int(h)).zfill(2)+\":00\" for h in hour],\n",
    "            'area': [\n",
    "                env_cen_y, env_cen_x, env_cen_y-0.1,\n",
    "                 env_cen_x+0.1,\n",
    "            ],\n",
    "        })\n",
    "\n",
    "    with urllib.request.urlopen(fl.location) as f:\n",
    "        ds = xr.open_dataset(f.read())\n",
    "\n",
    "    time_list=[this_day + np.timedelta64(int(hour[0]), 'h'),\n",
    "    this_day + np.timedelta64(int(hour[1]), 'h'),\n",
    "    this_day + np.timedelta64(int(hour[2]), 'h'),\n",
    "    next_day + np.timedelta64(int(hour[3]), 'h')]\n",
    "\n",
    "    u10=ds.sel(time=time_list).u10[:,0,0].values\n",
    "    v10=ds.sel(time=time_list).v10[:,0,0].values\n",
    "    t2m=ds.sel(time=time_list).t2m[:,0,0].values\n",
    "    \n",
    "    u10_list.append(u10)\n",
    "    v10_list.append(v10)\n",
    "    t2m_list.append(t2m)"
   ]
  },
  {
   "cell_type": "code",
   "execution_count": null,
   "id": "ef5d7ee4",
   "metadata": {},
   "outputs": [],
   "source": []
  },
  {
   "cell_type": "code",
   "execution_count": null,
   "id": "a655d562",
   "metadata": {},
   "outputs": [],
   "source": []
  },
  {
   "cell_type": "code",
   "execution_count": null,
   "id": "8f0838cb",
   "metadata": {},
   "outputs": [],
   "source": []
  },
  {
   "cell_type": "code",
   "execution_count": null,
   "id": "966cf2e1",
   "metadata": {},
   "outputs": [],
   "source": [
    "dem_list=[]\n",
    "i = 1\n",
    "g=medium_fire_event.iloc[i].geometry.bounds\n",
    "ul=list(rio.transform.rowcol(dem_img.transform, g[0], g[3]))\n",
    "cell_size=463.43036\n",
    "x_err=(rio.transform.xy(dem_img.transform, ul[0], ul[1])[0]-463.43036/2)-g[0]\n",
    "y_err=(rio.transform.xy(dem_img.transform, ul[0], ul[1])[1]+463.43036/2)-g[3]\n",
    "\n",
    "if x_err < -cell_size/2:\n",
    "    ul[1]=ul[1]+1\n",
    "elif (x_err > cell_size/2):\n",
    "    ul[1]=ul[1]-1\n",
    "\n",
    "if y_err > cell_size/2:\n",
    "    ul[0]=ul[0]+1\n",
    "elif y_err < -cell_size/2:\n",
    "    ul[0]=ul[0]-1\n",
    "\n",
    "h=medium_fire_event.iloc[i].height\n",
    "w=medium_fire_event.iloc[i].width\n",
    "\n",
    "\n",
    "dim=32\n",
    "\n",
    "h_dif=dim-h\n",
    "w_dif=dim-w\n",
    "left_pad=w_dif//2\n",
    "right_pad=w_dif-left_pad\n",
    "top_pad=h_dif//2\n",
    "bottom_pad=h_dif-top_pad\n",
    "\n",
    "dem_crop=dem[ul[0]-top_pad:ul[0]+h+bottom_pad, ul[1]-left_pad:ul[1]+w+right_pad]\n",
    "\n",
    "dem_list.append(dem_crop)\n"
   ]
  },
  {
   "cell_type": "code",
   "execution_count": null,
   "id": "624b0e0b",
   "metadata": {},
   "outputs": [],
   "source": [
    "ul[0]"
   ]
  },
  {
   "cell_type": "code",
   "execution_count": null,
   "id": "001f27eb",
   "metadata": {},
   "outputs": [],
   "source": [
    "list(rio.transform.rowcol(dem_img.transform, g[0], g[3]))"
   ]
  },
  {
   "cell_type": "code",
   "execution_count": null,
   "id": "7a66997d",
   "metadata": {},
   "outputs": [],
   "source": [
    "g[0]"
   ]
  },
  {
   "cell_type": "code",
   "execution_count": null,
   "id": "a996b9b5",
   "metadata": {},
   "outputs": [],
   "source": [
    "g"
   ]
  },
  {
   "cell_type": "code",
   "execution_count": null,
   "id": "ce0e54e6",
   "metadata": {},
   "outputs": [],
   "source": [
    "dem_crop=dem[ul[0]-top_pad:ul[0]+h+bottom_pad, ul[1]-left_pad:ul[1]+w+right_pad]"
   ]
  },
  {
   "cell_type": "code",
   "execution_count": null,
   "id": "a3fccf72",
   "metadata": {},
   "outputs": [],
   "source": [
    "dem_crop"
   ]
  },
  {
   "cell_type": "code",
   "execution_count": null,
   "id": "777ce557",
   "metadata": {},
   "outputs": [],
   "source": [
    "dem.shape"
   ]
  },
  {
   "cell_type": "code",
   "execution_count": null,
   "id": "bc23a68f",
   "metadata": {},
   "outputs": [],
   "source": [
    "dem[ul[0]-top_pad:ul[0]+h+bottom_pad]"
   ]
  },
  {
   "cell_type": "code",
   "execution_count": null,
   "id": "37001ded",
   "metadata": {},
   "outputs": [],
   "source": [
    "dem[ul[0]-top_pad:ul[0]+h+bottom_pad, ul[1]-left_pad:ul[1]+w+right_pad]"
   ]
  },
  {
   "cell_type": "code",
   "execution_count": null,
   "id": "8023925f",
   "metadata": {},
   "outputs": [],
   "source": [
    "ul[0]-top_pad"
   ]
  },
  {
   "cell_type": "code",
   "execution_count": null,
   "id": "2b8c0526",
   "metadata": {},
   "outputs": [],
   "source": [
    "ul[0]+h+bottom_pad"
   ]
  },
  {
   "cell_type": "code",
   "execution_count": null,
   "id": "809b005f",
   "metadata": {},
   "outputs": [],
   "source": [
    "ul[1]-left_pad"
   ]
  },
  {
   "cell_type": "code",
   "execution_count": null,
   "id": "c9041b9d",
   "metadata": {},
   "outputs": [],
   "source": [
    "ul[1]+w+right_pad"
   ]
  },
  {
   "cell_type": "code",
   "execution_count": null,
   "id": "d415a477",
   "metadata": {},
   "outputs": [],
   "source": [
    "dem[-740380502:-740380470,-1921588741:-1921588709]"
   ]
  },
  {
   "cell_type": "code",
   "execution_count": null,
   "id": "f54f0523",
   "metadata": {},
   "outputs": [],
   "source": [
    "dem[1:3,3:5]"
   ]
  },
  {
   "cell_type": "code",
   "execution_count": 46,
   "id": "73e4e4b8",
   "metadata": {},
   "outputs": [
    {
     "data": {
      "text/plain": [
       "(3, 5, 32, 32)"
      ]
     },
     "execution_count": 46,
     "metadata": {},
     "output_type": "execute_result"
    }
   ],
   "source": [
    "np.shape(stack_list[4])"
   ]
  },
  {
   "cell_type": "code",
   "execution_count": 47,
   "id": "c6031d6c",
   "metadata": {},
   "outputs": [
    {
     "data": {
      "text/plain": [
       "5079"
      ]
     },
     "execution_count": 47,
     "metadata": {},
     "output_type": "execute_result"
    }
   ],
   "source": [
    "len(stack_list)"
   ]
  },
  {
   "cell_type": "code",
   "execution_count": null,
   "id": "aeb4fc4e",
   "metadata": {},
   "outputs": [],
   "source": []
  }
 ],
 "metadata": {
  "kernelspec": {
   "display_name": "Python 3 (ipykernel)",
   "language": "python",
   "name": "python3"
  },
  "language_info": {
   "codemirror_mode": {
    "name": "ipython",
    "version": 3
   },
   "file_extension": ".py",
   "mimetype": "text/x-python",
   "name": "python",
   "nbconvert_exporter": "python",
   "pygments_lexer": "ipython3",
   "version": "3.8.8"
  }
 },
 "nbformat": 4,
 "nbformat_minor": 5
}
