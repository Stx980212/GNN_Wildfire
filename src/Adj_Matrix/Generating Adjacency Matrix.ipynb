{
 "cells": [
  {
   "cell_type": "code",
   "execution_count": 67,
   "id": "9b1a4b1a",
   "metadata": {},
   "outputs": [],
   "source": [
    "import numpy as np\n",
    "import pandas as pd\n",
    "from math import sqrt\n",
    "\n",
    "output_dir = '../../output/'"
   ]
  },
  {
   "cell_type": "code",
   "execution_count": 9,
   "id": "353a934c",
   "metadata": {},
   "outputs": [],
   "source": [
    "row_num = 32\n",
    "col_num = 32\n"
   ]
  },
  {
   "cell_type": "code",
   "execution_count": 48,
   "id": "a61713b2",
   "metadata": {},
   "outputs": [],
   "source": [
    "adj_matrix = np.array([])\n",
    "for i in range(row_num):\n",
    "    for j in range(col_num):\n",
    "        adj_matrix_row = np.array([])\n",
    "        for m in range(row_num):\n",
    "            for n in range(col_num):\n",
    "                distance = sqrt((i - m) ** 2 + (j - n)**2)\n",
    "                if distance == 0:\n",
    "                    weight = 1\n",
    "                elif distance <= 2:\n",
    "                    weight = 1 / (distance + 1)\n",
    "                else:\n",
    "                    weight = 0\n",
    "                #adj_matrix_row.append(weight)\n",
    "                adj_matrix_row = np.append(adj_matrix_row,weight)\n",
    "        #adj_matrix.append(adj_matrix_row)\n",
    "        adj_matrix = np.append(adj_matrix,adj_matrix_row)"
   ]
  },
  {
   "cell_type": "code",
   "execution_count": 68,
   "id": "ffe7887b",
   "metadata": {},
   "outputs": [],
   "source": [
    "pd.DataFrame(adj_matrix.reshape(1024,1024)).to_csv(output_dir+\"Adj_Matrix.csv\", header = None, index = None)"
   ]
  },
  {
   "cell_type": "code",
   "execution_count": null,
   "id": "dd299179",
   "metadata": {},
   "outputs": [],
   "source": []
  }
 ],
 "metadata": {
  "kernelspec": {
   "display_name": "Python 3 (ipykernel)",
   "language": "python",
   "name": "python3"
  },
  "language_info": {
   "codemirror_mode": {
    "name": "ipython",
    "version": 3
   },
   "file_extension": ".py",
   "mimetype": "text/x-python",
   "name": "python",
   "nbconvert_exporter": "python",
   "pygments_lexer": "ipython3",
   "version": "3.8.8"
  }
 },
 "nbformat": 4,
 "nbformat_minor": 5
}
