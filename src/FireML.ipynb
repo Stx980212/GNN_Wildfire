{
 "cells": [
  {
   "cell_type": "code",
   "execution_count": 1,
   "id": "f504b355",
   "metadata": {},
   "outputs": [],
   "source": [
    "import shapefile\n",
    "import geopandas as gpd\n",
    "import os\n",
    "import numpy as np\n",
    "import matplotlib.pyplot as plt\n",
    "import datetime\n",
    "import pandas as pd\n",
    "import rasterio as rio\n",
    "from rasterio.features import rasterize\n",
    "import xarray as xr\n",
    "import rioxarray as rxr\n",
    "import requests\n",
    "from skimage.measure import block_reduce\n",
    "from tqdm.notebook import tqdm\n",
    "from tzwhere import tzwhere\n",
    "import multiprocessing as mp"
   ]
  },
  {
   "cell_type": "code",
   "execution_count": 2,
   "id": "8ae37f96",
   "metadata": {},
   "outputs": [],
   "source": [
    "FIRE_PERIM_DIR=\"../data/\"\n",
    "FIRE_EVENT=\"fired_conus-ak_events_nov2001-march2021.gpkg\"\n",
    "FIRE_DAY=\"fired_conus-ak_daily_nov2001-march2021.gpkg\""
   ]
  },
  {
   "cell_type": "code",
   "execution_count": 3,
   "id": "fac1c576",
   "metadata": {},
   "outputs": [],
   "source": [
    "fire_event_df=gpd.read_file(os.path.join(FIRE_PERIM_DIR,FIRE_EVENT))"
   ]
  },
  {
   "cell_type": "code",
   "execution_count": 4,
   "id": "5b0d984f",
   "metadata": {},
   "outputs": [
    {
     "ename": "KeyboardInterrupt",
     "evalue": "",
     "output_type": "error",
     "traceback": [
      "\u001b[0;31m---------------------------------------------------------------------------\u001b[0m",
      "\u001b[0;31mKeyboardInterrupt\u001b[0m                         Traceback (most recent call last)",
      "\u001b[0;32m<ipython-input-4-c3cbd43184a8>\u001b[0m in \u001b[0;36m<module>\u001b[0;34m\u001b[0m\n\u001b[0;32m----> 1\u001b[0;31m \u001b[0mfire_day_df\u001b[0m\u001b[0;34m=\u001b[0m\u001b[0mgpd\u001b[0m\u001b[0;34m.\u001b[0m\u001b[0mread_file\u001b[0m\u001b[0;34m(\u001b[0m\u001b[0mos\u001b[0m\u001b[0;34m.\u001b[0m\u001b[0mpath\u001b[0m\u001b[0;34m.\u001b[0m\u001b[0mjoin\u001b[0m\u001b[0;34m(\u001b[0m\u001b[0mFIRE_PERIM_DIR\u001b[0m\u001b[0;34m,\u001b[0m\u001b[0mFIRE_DAY\u001b[0m\u001b[0;34m)\u001b[0m\u001b[0;34m)\u001b[0m\u001b[0;34m\u001b[0m\u001b[0;34m\u001b[0m\u001b[0m\n\u001b[0m",
      "\u001b[0;32m/opt/anaconda3/lib/python3.8/site-packages/geopandas/io/file.py\u001b[0m in \u001b[0;36m_read_file\u001b[0;34m(filename, bbox, mask, rows, **kwargs)\u001b[0m\n\u001b[1;32m    242\u001b[0m                 )\n\u001b[1;32m    243\u001b[0m \u001b[0;34m\u001b[0m\u001b[0m\n\u001b[0;32m--> 244\u001b[0;31m             return GeoDataFrame.from_features(\n\u001b[0m\u001b[1;32m    245\u001b[0m                 \u001b[0mf_filt\u001b[0m\u001b[0;34m,\u001b[0m \u001b[0mcrs\u001b[0m\u001b[0;34m=\u001b[0m\u001b[0mcrs\u001b[0m\u001b[0;34m,\u001b[0m \u001b[0mcolumns\u001b[0m\u001b[0;34m=\u001b[0m\u001b[0mcolumns\u001b[0m \u001b[0;34m+\u001b[0m \u001b[0;34m[\u001b[0m\u001b[0;34m\"geometry\"\u001b[0m\u001b[0;34m]\u001b[0m\u001b[0;34m\u001b[0m\u001b[0;34m\u001b[0m\u001b[0m\n\u001b[1;32m    246\u001b[0m             )\n",
      "\u001b[0;32m/opt/anaconda3/lib/python3.8/site-packages/geopandas/geodataframe.py\u001b[0m in \u001b[0;36mfrom_features\u001b[0;34m(cls, features, crs, columns)\u001b[0m\n\u001b[1;32m    608\u001b[0m             \u001b[0mrow\u001b[0m\u001b[0;34m.\u001b[0m\u001b[0mupdate\u001b[0m\u001b[0;34m(\u001b[0m\u001b[0mfeature\u001b[0m\u001b[0;34m[\u001b[0m\u001b[0;34m\"properties\"\u001b[0m\u001b[0;34m]\u001b[0m\u001b[0;34m)\u001b[0m\u001b[0;34m\u001b[0m\u001b[0;34m\u001b[0m\u001b[0m\n\u001b[1;32m    609\u001b[0m             \u001b[0mrows\u001b[0m\u001b[0;34m.\u001b[0m\u001b[0mappend\u001b[0m\u001b[0;34m(\u001b[0m\u001b[0mrow\u001b[0m\u001b[0;34m)\u001b[0m\u001b[0;34m\u001b[0m\u001b[0;34m\u001b[0m\u001b[0m\n\u001b[0;32m--> 610\u001b[0;31m         \u001b[0;32mreturn\u001b[0m \u001b[0mGeoDataFrame\u001b[0m\u001b[0;34m(\u001b[0m\u001b[0mrows\u001b[0m\u001b[0;34m,\u001b[0m \u001b[0mcolumns\u001b[0m\u001b[0;34m=\u001b[0m\u001b[0mcolumns\u001b[0m\u001b[0;34m,\u001b[0m \u001b[0mcrs\u001b[0m\u001b[0;34m=\u001b[0m\u001b[0mcrs\u001b[0m\u001b[0;34m)\u001b[0m\u001b[0;34m\u001b[0m\u001b[0;34m\u001b[0m\u001b[0m\n\u001b[0m\u001b[1;32m    611\u001b[0m \u001b[0;34m\u001b[0m\u001b[0m\n\u001b[1;32m    612\u001b[0m     \u001b[0;34m@\u001b[0m\u001b[0mclassmethod\u001b[0m\u001b[0;34m\u001b[0m\u001b[0;34m\u001b[0m\u001b[0m\n",
      "\u001b[0;32m/opt/anaconda3/lib/python3.8/site-packages/geopandas/geodataframe.py\u001b[0m in \u001b[0;36m__init__\u001b[0;34m(self, data, geometry, crs, *args, **kwargs)\u001b[0m\n\u001b[1;32m    120\u001b[0m     \u001b[0;32mdef\u001b[0m \u001b[0m__init__\u001b[0m\u001b[0;34m(\u001b[0m\u001b[0mself\u001b[0m\u001b[0;34m,\u001b[0m \u001b[0mdata\u001b[0m\u001b[0;34m=\u001b[0m\u001b[0;32mNone\u001b[0m\u001b[0;34m,\u001b[0m \u001b[0;34m*\u001b[0m\u001b[0margs\u001b[0m\u001b[0;34m,\u001b[0m \u001b[0mgeometry\u001b[0m\u001b[0;34m=\u001b[0m\u001b[0;32mNone\u001b[0m\u001b[0;34m,\u001b[0m \u001b[0mcrs\u001b[0m\u001b[0;34m=\u001b[0m\u001b[0;32mNone\u001b[0m\u001b[0;34m,\u001b[0m \u001b[0;34m**\u001b[0m\u001b[0mkwargs\u001b[0m\u001b[0;34m)\u001b[0m\u001b[0;34m:\u001b[0m\u001b[0;34m\u001b[0m\u001b[0;34m\u001b[0m\u001b[0m\n\u001b[1;32m    121\u001b[0m         \u001b[0;32mwith\u001b[0m \u001b[0mcompat\u001b[0m\u001b[0;34m.\u001b[0m\u001b[0mignore_shapely2_warnings\u001b[0m\u001b[0;34m(\u001b[0m\u001b[0;34m)\u001b[0m\u001b[0;34m:\u001b[0m\u001b[0;34m\u001b[0m\u001b[0;34m\u001b[0m\u001b[0m\n\u001b[0;32m--> 122\u001b[0;31m             \u001b[0msuper\u001b[0m\u001b[0;34m(\u001b[0m\u001b[0;34m)\u001b[0m\u001b[0;34m.\u001b[0m\u001b[0m__init__\u001b[0m\u001b[0;34m(\u001b[0m\u001b[0mdata\u001b[0m\u001b[0;34m,\u001b[0m \u001b[0;34m*\u001b[0m\u001b[0margs\u001b[0m\u001b[0;34m,\u001b[0m \u001b[0;34m**\u001b[0m\u001b[0mkwargs\u001b[0m\u001b[0;34m)\u001b[0m\u001b[0;34m\u001b[0m\u001b[0;34m\u001b[0m\u001b[0m\n\u001b[0m\u001b[1;32m    123\u001b[0m \u001b[0;34m\u001b[0m\u001b[0m\n\u001b[1;32m    124\u001b[0m         \u001b[0;31m# need to set this before calling self['geometry'], because\u001b[0m\u001b[0;34m\u001b[0m\u001b[0;34m\u001b[0m\u001b[0;34m\u001b[0m\u001b[0m\n",
      "\u001b[0;32m/opt/anaconda3/lib/python3.8/site-packages/pandas/core/frame.py\u001b[0m in \u001b[0;36m__init__\u001b[0;34m(self, data, index, columns, dtype, copy)\u001b[0m\n\u001b[1;32m    568\u001b[0m                     \u001b[0;32mif\u001b[0m \u001b[0mis_named_tuple\u001b[0m\u001b[0;34m(\u001b[0m\u001b[0mdata\u001b[0m\u001b[0;34m[\u001b[0m\u001b[0;36m0\u001b[0m\u001b[0;34m]\u001b[0m\u001b[0;34m)\u001b[0m \u001b[0;32mand\u001b[0m \u001b[0mcolumns\u001b[0m \u001b[0;32mis\u001b[0m \u001b[0;32mNone\u001b[0m\u001b[0;34m:\u001b[0m\u001b[0;34m\u001b[0m\u001b[0;34m\u001b[0m\u001b[0m\n\u001b[1;32m    569\u001b[0m                         \u001b[0mcolumns\u001b[0m \u001b[0;34m=\u001b[0m \u001b[0mdata\u001b[0m\u001b[0;34m[\u001b[0m\u001b[0;36m0\u001b[0m\u001b[0;34m]\u001b[0m\u001b[0;34m.\u001b[0m\u001b[0m_fields\u001b[0m\u001b[0;34m\u001b[0m\u001b[0;34m\u001b[0m\u001b[0m\n\u001b[0;32m--> 570\u001b[0;31m                     \u001b[0marrays\u001b[0m\u001b[0;34m,\u001b[0m \u001b[0mcolumns\u001b[0m \u001b[0;34m=\u001b[0m \u001b[0mto_arrays\u001b[0m\u001b[0;34m(\u001b[0m\u001b[0mdata\u001b[0m\u001b[0;34m,\u001b[0m \u001b[0mcolumns\u001b[0m\u001b[0;34m,\u001b[0m \u001b[0mdtype\u001b[0m\u001b[0;34m=\u001b[0m\u001b[0mdtype\u001b[0m\u001b[0;34m)\u001b[0m\u001b[0;34m\u001b[0m\u001b[0;34m\u001b[0m\u001b[0m\n\u001b[0m\u001b[1;32m    571\u001b[0m                     \u001b[0mcolumns\u001b[0m \u001b[0;34m=\u001b[0m \u001b[0mensure_index\u001b[0m\u001b[0;34m(\u001b[0m\u001b[0mcolumns\u001b[0m\u001b[0;34m)\u001b[0m\u001b[0;34m\u001b[0m\u001b[0;34m\u001b[0m\u001b[0m\n\u001b[1;32m    572\u001b[0m \u001b[0;34m\u001b[0m\u001b[0m\n",
      "\u001b[0;32m/opt/anaconda3/lib/python3.8/site-packages/pandas/core/internals/construction.py\u001b[0m in \u001b[0;36mto_arrays\u001b[0;34m(data, columns, coerce_float, dtype)\u001b[0m\n\u001b[1;32m    528\u001b[0m         \u001b[0;32mreturn\u001b[0m \u001b[0m_list_to_arrays\u001b[0m\u001b[0;34m(\u001b[0m\u001b[0mdata\u001b[0m\u001b[0;34m,\u001b[0m \u001b[0mcolumns\u001b[0m\u001b[0;34m,\u001b[0m \u001b[0mcoerce_float\u001b[0m\u001b[0;34m=\u001b[0m\u001b[0mcoerce_float\u001b[0m\u001b[0;34m,\u001b[0m \u001b[0mdtype\u001b[0m\u001b[0;34m=\u001b[0m\u001b[0mdtype\u001b[0m\u001b[0;34m)\u001b[0m\u001b[0;34m\u001b[0m\u001b[0;34m\u001b[0m\u001b[0m\n\u001b[1;32m    529\u001b[0m     \u001b[0;32melif\u001b[0m \u001b[0misinstance\u001b[0m\u001b[0;34m(\u001b[0m\u001b[0mdata\u001b[0m\u001b[0;34m[\u001b[0m\u001b[0;36m0\u001b[0m\u001b[0;34m]\u001b[0m\u001b[0;34m,\u001b[0m \u001b[0mabc\u001b[0m\u001b[0;34m.\u001b[0m\u001b[0mMapping\u001b[0m\u001b[0;34m)\u001b[0m\u001b[0;34m:\u001b[0m\u001b[0;34m\u001b[0m\u001b[0;34m\u001b[0m\u001b[0m\n\u001b[0;32m--> 530\u001b[0;31m         return _list_of_dict_to_arrays(\n\u001b[0m\u001b[1;32m    531\u001b[0m             \u001b[0mdata\u001b[0m\u001b[0;34m,\u001b[0m \u001b[0mcolumns\u001b[0m\u001b[0;34m,\u001b[0m \u001b[0mcoerce_float\u001b[0m\u001b[0;34m=\u001b[0m\u001b[0mcoerce_float\u001b[0m\u001b[0;34m,\u001b[0m \u001b[0mdtype\u001b[0m\u001b[0;34m=\u001b[0m\u001b[0mdtype\u001b[0m\u001b[0;34m\u001b[0m\u001b[0;34m\u001b[0m\u001b[0m\n\u001b[1;32m    532\u001b[0m         )\n",
      "\u001b[0;32m/opt/anaconda3/lib/python3.8/site-packages/pandas/core/internals/construction.py\u001b[0m in \u001b[0;36m_list_of_dict_to_arrays\u001b[0;34m(data, columns, coerce_float, dtype)\u001b[0m\n\u001b[1;32m    647\u001b[0m     \u001b[0mdata\u001b[0m \u001b[0;34m=\u001b[0m \u001b[0;34m[\u001b[0m\u001b[0;34m(\u001b[0m\u001b[0mtype\u001b[0m\u001b[0;34m(\u001b[0m\u001b[0md\u001b[0m\u001b[0;34m)\u001b[0m \u001b[0;32mis\u001b[0m \u001b[0mdict\u001b[0m\u001b[0;34m)\u001b[0m \u001b[0;32mand\u001b[0m \u001b[0md\u001b[0m \u001b[0;32mor\u001b[0m \u001b[0mdict\u001b[0m\u001b[0;34m(\u001b[0m\u001b[0md\u001b[0m\u001b[0;34m)\u001b[0m \u001b[0;32mfor\u001b[0m \u001b[0md\u001b[0m \u001b[0;32min\u001b[0m \u001b[0mdata\u001b[0m\u001b[0;34m]\u001b[0m\u001b[0;34m\u001b[0m\u001b[0;34m\u001b[0m\u001b[0m\n\u001b[1;32m    648\u001b[0m \u001b[0;34m\u001b[0m\u001b[0m\n\u001b[0;32m--> 649\u001b[0;31m     \u001b[0mcontent\u001b[0m \u001b[0;34m=\u001b[0m \u001b[0mlist\u001b[0m\u001b[0;34m(\u001b[0m\u001b[0mlib\u001b[0m\u001b[0;34m.\u001b[0m\u001b[0mdicts_to_array\u001b[0m\u001b[0;34m(\u001b[0m\u001b[0mdata\u001b[0m\u001b[0;34m,\u001b[0m \u001b[0mlist\u001b[0m\u001b[0;34m(\u001b[0m\u001b[0mcolumns\u001b[0m\u001b[0;34m)\u001b[0m\u001b[0;34m)\u001b[0m\u001b[0;34m.\u001b[0m\u001b[0mT\u001b[0m\u001b[0;34m)\u001b[0m\u001b[0;34m\u001b[0m\u001b[0;34m\u001b[0m\u001b[0m\n\u001b[0m\u001b[1;32m    650\u001b[0m     \u001b[0mcolumns\u001b[0m \u001b[0;34m=\u001b[0m \u001b[0m_validate_or_indexify_columns\u001b[0m\u001b[0;34m(\u001b[0m\u001b[0mcontent\u001b[0m\u001b[0;34m,\u001b[0m \u001b[0mcolumns\u001b[0m\u001b[0;34m)\u001b[0m\u001b[0;34m\u001b[0m\u001b[0;34m\u001b[0m\u001b[0m\n\u001b[1;32m    651\u001b[0m     \u001b[0mcontent\u001b[0m \u001b[0;34m=\u001b[0m \u001b[0m_convert_object_array\u001b[0m\u001b[0;34m(\u001b[0m\u001b[0mcontent\u001b[0m\u001b[0;34m,\u001b[0m \u001b[0mdtype\u001b[0m\u001b[0;34m=\u001b[0m\u001b[0mdtype\u001b[0m\u001b[0;34m,\u001b[0m \u001b[0mcoerce_float\u001b[0m\u001b[0;34m=\u001b[0m\u001b[0mcoerce_float\u001b[0m\u001b[0;34m)\u001b[0m\u001b[0;34m\u001b[0m\u001b[0;34m\u001b[0m\u001b[0m\n",
      "\u001b[0;31mKeyboardInterrupt\u001b[0m: "
     ]
    }
   ],
   "source": [
    "fire_day_df=gpd.read_file(os.path.join(FIRE_PERIM_DIR,FIRE_DAY))"
   ]
  },
  {
   "cell_type": "code",
   "execution_count": null,
   "id": "dd630080",
   "metadata": {},
   "outputs": [],
   "source": [
    "#fire_event_df_rpj=fire_event_df.to_crs(\"EPSG:4326\")"
   ]
  },
  {
   "cell_type": "code",
   "execution_count": null,
   "id": "7650bbbf",
   "metadata": {},
   "outputs": [],
   "source": [
    "fig, ax= plt.subplots(figsize=(5,5))\n",
    "ax.hist(fire_event_df.area/1e6, bins=np.logspace(start=np.log10(fire_event_df.area.min()/1e6), stop=np.log10(fire_event_df.area.max()/1e6), num=25))\n",
    "ax.set_xscale(\"log\")\n",
    "ax.set_xlabel(\"Total Burned Area ($km^2$)\")\n",
    "ax.set_ylabel(\"Frequency\")\n",
    "plt.show()"
   ]
  },
  {
   "cell_type": "markdown",
   "id": "e2e74486",
   "metadata": {},
   "source": [
    "#### Plot the longest burning fire in the dataset"
   ]
  },
  {
   "cell_type": "code",
   "execution_count": null,
   "id": "3b997d7b",
   "metadata": {},
   "outputs": [],
   "source": [
    "plt.figure(figsize=(5,5))\n",
    "longest_event_index=fire_event_df.iloc[fire_event_df.event_dur.argmax()][\"id\"]\n",
    "longest_fire=fire_day_df[fire_day_df[\"id\"]==387281]\n",
    "date_range=pd.to_datetime(longest_fire.date, infer_datetime_format=True)\n",
    "plt.plot(date_range, longest_fire.area/1e6)\n",
    "plt.ylabel(\"Daily Burned Area($km^2$)\")\n",
    "plt.xticks([date_range.iloc[0],date_range.iloc[40], date_range.iloc[80]])\n",
    "plt.show()"
   ]
  },
  {
   "cell_type": "code",
   "execution_count": null,
   "id": "0a20dd84",
   "metadata": {},
   "outputs": [],
   "source": [
    "longest_fire.to_crs(\"EPSG:4326\").plot(\"event_day\", legend=True)\n",
    "plt.show()"
   ]
  },
  {
   "cell_type": "markdown",
   "id": "c1b8b9b3",
   "metadata": {},
   "source": [
    "### Select Medium Scale Fire Events"
   ]
  },
  {
   "cell_type": "code",
   "execution_count": null,
   "id": "52f562f3",
   "metadata": {
    "scrolled": true
   },
   "outputs": [],
   "source": [
    "medium_fire_event=fire_event_df[(fire_event_df.area >= 10e6) & (fire_event_df.area <= 30e6) & (fire_event_df.event_dur > 3)]\n",
    "medium_event_bounds=medium_fire_event.bounds\n",
    "medium_event_bounds[\"width\"]=((medium_event_bounds[\"maxx\"]-medium_event_bounds[\"minx\"])/463.3127165283333).astype(int)\n",
    "medium_event_bounds[\"height\"]=((medium_event_bounds[\"maxy\"]-medium_event_bounds[\"miny\"])/463.3127165283333).astype(int)\n",
    "\n",
    "def return_transform_object(west, south, east, north, width, height):\n",
    "    return rio.transform.from_bounds(west, south, east, north, width, height)\n",
    "\n",
    "medium_event_bounds[\"transform\"]=medium_event_bounds.apply(lambda x: return_transform_object(x[\"minx\"], x[\"miny\"], x[\"maxx\"], x[\"maxy\"], x[\"width\"], x[\"height\"]), axis=1)\n",
    "medium_fire_event=medium_fire_event.join(medium_event_bounds)\n",
    "\n",
    "medium_fire_day=fire_day_df[[True if a in medium_fire_event[\"id\"].values else False for a in fire_day_df[\"id\"] ]]\n",
    "\n",
    "medium_fire_day[\"event_id\"]=medium_fire_day[\"id\"].values\n",
    "medium_fire_event[\"event_id\"]=medium_fire_event[\"id\"].values\n",
    "\n",
    "medium_fire_event[\"date\"]=pd.to_datetime(medium_fire_event[\"ig_date\"])\n",
    "medium_fire_event[\"envelope_centroid\"]=medium_fire_event.envelope.centroid.to_crs(\"EPSG:4326\")"
   ]
  },
  {
   "cell_type": "markdown",
   "id": "31e29df4",
   "metadata": {},
   "source": [
    "### Use Global MODIS subset tool to retrieve NDVI"
   ]
  },
  {
   "cell_type": "code",
   "execution_count": null,
   "id": "51dcb342",
   "metadata": {},
   "outputs": [],
   "source": [
    "\"\"\"\n",
    "ndvi_continue=[]\n",
    "for i in tqdm(range(len(medium_fire_event)-3651)):\n",
    "    i=i+3651\n",
    "    env_cen_x=medium_fire_event[\"envelope_centroid\"].iloc[i].__geo_interface__[\"coordinates\"][0]\n",
    "    env_cen_y=medium_fire_event[\"envelope_centroid\"].iloc[i].__geo_interface__[\"coordinates\"][1]\n",
    "\n",
    "    BASE_URL=\"https://modis.ornl.gov/rst/api/v1\"\n",
    "    MODIS_VI_SUBSET=\"/MOD13Q1/subset\"\n",
    "    MODIS_VI_DATES=\"/MOD13Q1/dates\"\n",
    "    date_r=requests.get(BASE_URL+MODIS_VI_DATES, params={\"longitude\": env_cen_x, \"latitude\": env_cen_y})\n",
    "\n",
    "    res=pd.DataFrame(date_r.json()[\"dates\"])\n",
    "    res[\"date\"]=pd.to_datetime(res[\"calendar_date\"])\n",
    "\n",
    "    date_idx=abs(res[\"date\"]-medium_fire_event.iloc[i][\"date\"]).idxmin()\n",
    "\n",
    "    while (res[\"date\"][date_idx]+ np.timedelta64(16, \"D\")>=medium_fire_event.iloc[i][\"date\"]):\n",
    "        date_idx=date_idx-1\n",
    "\n",
    "    modis_date=res[\"modis_date\"][date_idx]\n",
    "\n",
    "    data_r=requests.get(BASE_URL+MODIS_VI_SUBSET, params={\"longitude\": env_cen_x,\n",
    "                                                          \"latitude\": env_cen_y,\n",
    "                                                          \"startDate\": modis_date,\n",
    "                                                          \"endDate\": modis_date,\n",
    "                                                          \"kmAboveBelow\":10,\n",
    "                                                          \"kmLeftRight\":10,\"band\":[\"250m_16_days_NDVI\",]})\n",
    "\n",
    "    ndvi_data=np.array(data_r.json()[\"subset\"][0][\"data\"]).reshape(81,81)\n",
    "\n",
    "    xleft=float(data_r.json()[\"xllcorner\"])\n",
    "    ybot=float(data_r.json()[\"yllcorner\"])\n",
    "    cs=data_r.json()[\"cellsize\"]\n",
    "\n",
    "    ytop=ybot+ 81 * cs\n",
    "    xright=xleft+81*cs\n",
    "\n",
    "    t=rio.transform.from_bounds(xleft, ybot, xright, ytop, 81, 81)\n",
    "\n",
    "    b=medium_fire_event.iloc[i].geometry.envelope.bounds\n",
    "\n",
    "    bounds=rio.transform.rowcol(t, b[0], b[3]), rio.transform.rowcol(t, b[2], b[1])\n",
    "    \n",
    "    assert abs(rio.transform.xy(t, bounds[0][0], bounds[0][1] + 1)[0] -  cs* 0.5 - b[0]) < 0.5 * cs\n",
    "    assert abs(rio.transform.xy(t, bounds[0][0], bounds[0][1])[1] -  (cs* 0.5 + b[3]))  < 0.5 * cs\n",
    "    \n",
    "    h=int((bounds[1][0]-(bounds[0][0]+1))/2)\n",
    "    w=int((bounds[1][1]- (bounds[0][1]+1))/2)\n",
    "\n",
    "    dim=32\n",
    "\n",
    "    h_dif=dim-h\n",
    "    w_dif=dim-w\n",
    "    left_pad=w_dif//2\n",
    "    right_pad=w_dif-left_pad\n",
    "    top_pad=h_dif//2\n",
    "    bottom_pad=h_dif-top_pad\n",
    "\n",
    "    ndvi_data_s=ndvi_data[bounds[0][0]+1-2*top_pad: bounds[1][0]+2*bottom_pad, bounds[0][1]+1-2*left_pad:bounds[1][1]+2*right_pad]\n",
    "    \n",
    "    ndvi_data_reduced=block_reduce(ndvi_data_s, (2,2), np.mean)/1e4\n",
    "    \n",
    "    assert ndvi_data_reduced.shape[0] == 32 and ndvi_data_reduced.shape[1] == 32\n",
    "\n",
    "    ndvi_continue.append(ndvi_data_reduced)\n",
    "    \"\"\""
   ]
  },
  {
   "cell_type": "code",
   "execution_count": null,
   "id": "4dd129c4",
   "metadata": {},
   "outputs": [],
   "source": [
    "medium_fire_event[\"ndvi\"]=np.load(\"../data/ndvi_all.npy\").tolist()"
   ]
  },
  {
   "cell_type": "markdown",
   "id": "9043288d",
   "metadata": {},
   "source": [
    "### Get Landcover Dataset"
   ]
  },
  {
   "cell_type": "code",
   "execution_count": null,
   "id": "7c1b7654",
   "metadata": {},
   "outputs": [],
   "source": [
    "\"\"\"\n",
    "lc_crop_list_continue=[]\n",
    "for i in tqdm(range(len(medium_fire_event) - 4471)):\n",
    "    i = i + 4471\n",
    "    env_cen_x=medium_fire_event[\"envelope_centroid\"].iloc[i].__geo_interface__[\"coordinates\"][0]\n",
    "    env_cen_y=medium_fire_event[\"envelope_centroid\"].iloc[i].__geo_interface__[\"coordinates\"][1]\n",
    "\n",
    "    BASE_URL=\"https://modis.ornl.gov/rst/api/v1\"\n",
    "    MODIS_VI_SUBSET=\"/MCD12Q1/subset\"\n",
    "    MODIS_VI_DATES=\"/MCD12Q1/dates\"\n",
    "    date_r=requests.get(BASE_URL+MODIS_VI_DATES, params={\"longitude\": env_cen_x, \"latitude\": env_cen_y})\n",
    "\n",
    "    res=pd.DataFrame(date_r.json()[\"dates\"])\n",
    "    res[\"date\"]=pd.to_datetime(res[\"calendar_date\"])\n",
    "\n",
    "    date_idx=abs(res[\"date\"]-medium_fire_event.iloc[i][\"date\"]).idxmin()\n",
    "\n",
    "    while (res[\"date\"][date_idx].year>=medium_fire_event.iloc[i][\"date\"].year and date_idx > 0):\n",
    "        date_idx=date_idx-1\n",
    "\n",
    "    modis_date=res[\"modis_date\"][date_idx]\n",
    "\n",
    "    data_r=requests.get(BASE_URL+MODIS_VI_SUBSET, params={\"longitude\": env_cen_x,\n",
    "                                                          \"latitude\": env_cen_y,\n",
    "                                                          \"startDate\": modis_date,\n",
    "                                                          \"endDate\": modis_date,\n",
    "                                                          \"kmAboveBelow\":10,\n",
    "                                                          \"kmLeftRight\":10,\n",
    "                                                          \"band\": [\"LC_Type1\"]}).json()\n",
    "\n",
    "    n_rows=data_r[\"nrows\"]\n",
    "    n_cols=data_r[\"nrows\"]\n",
    "    land_cover=np.array(data_r[\"subset\"][0][\"data\"]).reshape(n_rows, n_cols)\n",
    "    xleft=float(data_r[\"xllcorner\"])\n",
    "    ybot=float(data_r[\"yllcorner\"])\n",
    "    cs=data_r[\"cellsize\"]\n",
    "\n",
    "    ytop=ybot+ n_rows * cs\n",
    "    xright=xleft+n_cols*cs\n",
    "\n",
    "    t=rio.transform.from_bounds(xleft, ybot, xright, ytop, n_rows, n_cols)\n",
    "\n",
    "    b=medium_fire_event.iloc[i].geometry.envelope.bounds\n",
    "\n",
    "    bounds=rio.transform.rowcol(t, b[0], b[3]), rio.transform.rowcol(t, b[2], b[1])\n",
    "    ul=list(bounds[0])\n",
    "\n",
    "    x_err=rio.transform.xy(t, ul[0], ul[1], offset=\"center\")[0] -  (cs* 0.5 + b[0])\n",
    "    y_err=rio.transform.xy(t, ul[0], ul[1], offset=\"center\")[1] -  (b[3] - cs* 0.5)\n",
    "\n",
    "    if x_err < -cs/2:\n",
    "        ul[1]=ul[1]+1\n",
    "    elif (x_err > cs/2):\n",
    "        ul[1]=ul[1]-1\n",
    "\n",
    "    if y_err > cs/2:\n",
    "        ul[0]=ul[0]+1\n",
    "    elif y_err < -cs/2:\n",
    "        ul[0]=ul[0]-1\n",
    "\n",
    "    h=medium_fire_event.iloc[i].height\n",
    "    w=medium_fire_event.iloc[i].width\n",
    "\n",
    "    xe=rio.transform.xy(t, ul[0], ul[1], offset=\"center\")[0] -  (cs* 0.5 + b[0])\n",
    "    ye=rio.transform.xy(t, ul[0], ul[1], offset=\"center\")[1] -  (b[3] - cs* 0.5)\n",
    "\n",
    "    #print(xe, ye)\n",
    "\n",
    "    dim=32\n",
    "\n",
    "    h_dif=dim-h\n",
    "    w_dif=dim-w\n",
    "    left_pad=w_dif//2\n",
    "    right_pad=w_dif-left_pad\n",
    "    top_pad=h_dif//2\n",
    "    bottom_pad=h_dif-top_pad\n",
    "\n",
    "    lc_crop=land_cover[ul[0]-top_pad:ul[0]+h+bottom_pad, ul[1]-left_pad:ul[1]+w+right_pad]\n",
    "\n",
    "    lc_crop_list_continue.append(lc_crop)\n",
    "\"\"\""
   ]
  },
  {
   "cell_type": "code",
   "execution_count": null,
   "id": "c0e2fdab",
   "metadata": {},
   "outputs": [],
   "source": [
    "medium_fire_event[\"land_cover\"]=np.load(\"../data/lc_crop_all.npy\").tolist()"
   ]
  },
  {
   "cell_type": "markdown",
   "id": "7fafdb0e",
   "metadata": {},
   "source": [
    "### Add Digital Elevation Model"
   ]
  },
  {
   "cell_type": "code",
   "execution_count": null,
   "id": "97fb3a8b",
   "metadata": {},
   "outputs": [],
   "source": [
    "dem_img=rio.open(\"../data/US_GMTED_MODIS.tif\")\n",
    "dem=dem_img.read(1)"
   ]
  },
  {
   "cell_type": "code",
   "execution_count": null,
   "id": "fc2d6b88",
   "metadata": {},
   "outputs": [],
   "source": [
    "dem_list=[]\n",
    "for i in range(len(medium_fire_event)):\n",
    "    g=medium_fire_event.iloc[i].geometry.bounds\n",
    "    ul=list(rio.transform.rowcol(dem_img.transform, g[0], g[3]))\n",
    "    cell_size=463.43036\n",
    "    x_err=(rio.transform.xy(dem_img.transform, ul[0], ul[1])[0]-463.43036/2)-g[0]\n",
    "    y_err=(rio.transform.xy(dem_img.transform, ul[0], ul[1])[1]+463.43036/2)-g[3]\n",
    "    \n",
    "    if x_err < -cell_size/2:\n",
    "        ul[1]=ul[1]+1\n",
    "    elif (x_err > cell_size/2):\n",
    "        ul[1]=ul[1]-1\n",
    "\n",
    "    if y_err > cell_size/2:\n",
    "        ul[0]=ul[0]+1\n",
    "    elif y_err < -cell_size/2:\n",
    "        ul[0]=ul[0]-1\n",
    "   \n",
    "    h=medium_fire_event.iloc[i].height\n",
    "    w=medium_fire_event.iloc[i].width\n",
    "    \n",
    "    \n",
    "    dim=32\n",
    "\n",
    "    h_dif=dim-h\n",
    "    w_dif=dim-w\n",
    "    left_pad=w_dif//2\n",
    "    right_pad=w_dif-left_pad\n",
    "    top_pad=h_dif//2\n",
    "    bottom_pad=h_dif-top_pad\n",
    "    \n",
    "    dem_crop=dem[ul[0]-top_pad:ul[0]+h+bottom_pad, ul[1]-left_pad:ul[1]+w+right_pad]\n",
    "    \n",
    "    dem_list.append(dem_crop)\n",
    "    "
   ]
  },
  {
   "cell_type": "code",
   "execution_count": null,
   "id": "1a0d5d39",
   "metadata": {},
   "outputs": [],
   "source": [
    "medium_fire_event[\"dem\"]=dem_list"
   ]
  },
  {
   "cell_type": "markdown",
   "id": "9b0603bc",
   "metadata": {},
   "source": [
    "### Rasterize Fire Perimeters"
   ]
  },
  {
   "cell_type": "code",
   "execution_count": null,
   "id": "ee17d535",
   "metadata": {},
   "outputs": [],
   "source": [
    "medium_fire=medium_fire_day.merge(medium_fire_event[[\"event_id\", \"minx\", \"miny\", \"maxx\", \"maxy\", \"width\", \"height\", \"transform\", \"dem\", \"ndvi\", \"land_cover\", \"envelope_centroid\"]], on=\"event_id\")\n",
    "medium_fire=medium_fire[(medium_fire.width < 32) & (medium_fire.height < 32)]\n",
    "\n",
    "def return_raster(geom, height, width, trans):\n",
    "    return rasterize([geom,], out_shape=(height, width), transform=trans)\n",
    "medium_fire[\"raster\"]=medium_fire.apply(lambda x: return_raster(x[\"geometry\"], x[\"height\"], x[\"width\"], x[\"transform\"]), axis=1)\n",
    "\n",
    "def padding(org, dim=32):\n",
    "    h=org.shape[0]\n",
    "    w=org.shape[1]\n",
    "    h_dif=dim-h\n",
    "    w_dif=dim-w\n",
    "    left_pad=w_dif//2\n",
    "    right_pad=w_dif-left_pad\n",
    "    top_pad=h_dif//2\n",
    "    bottom_pad=h_dif-top_pad\n",
    "    return np.pad(org, ((top_pad, bottom_pad), (left_pad, right_pad)), 'constant', constant_values=0)\n",
    "\n",
    "medium_fire[\"padded_raster\"]=medium_fire[\"raster\"].apply(padding)"
   ]
  },
  {
   "cell_type": "code",
   "execution_count": null,
   "id": "2e3bfa05",
   "metadata": {},
   "outputs": [],
   "source": [
    "fig, axs=plt.subplots(5,6, figsize=(20,20))\n",
    "ax=axs.flatten()\n",
    "longest_fire=medium_fire[medium_fire.event_id==154860]\n",
    "for i in range(30):\n",
    "    ax[i].imshow(longest_fire[\"padded_raster\"].iloc[i])\n",
    "    ax[i].set_title(\"Fire Day {}\".format(longest_fire[\"event_day\"].iloc[i]))"
   ]
  },
  {
   "cell_type": "markdown",
   "id": "da38258e",
   "metadata": {},
   "source": [
    "### Get Meterological Variables"
   ]
  },
  {
   "cell_type": "code",
   "execution_count": null,
   "id": "a930babf",
   "metadata": {},
   "outputs": [],
   "source": [
    "import urllib3\n",
    "import urllib\n",
    "import cdsapi\n",
    "urllib3.disable_warnings(urllib3.exceptions.InsecureRequestWarning)\n",
    "c = cdsapi.Client(quiet=True)"
   ]
  },
  {
   "cell_type": "code",
   "execution_count": null,
   "id": "125f1094",
   "metadata": {},
   "outputs": [],
   "source": [
    "medium_fire[\"date\"]=pd.to_datetime(medium_fire.date)"
   ]
  },
  {
   "cell_type": "code",
   "execution_count": null,
   "id": "1d9a0949",
   "metadata": {},
   "outputs": [],
   "source": [
    "medium_fire_no_ak=medium_fire[[medium_fire[\"envelope_centroid\"].iloc[i].__geo_interface__[\"coordinates\"][1] < 49.5 for i in range(len(medium_fire))]]\n",
    "medium_fire_no_ak_hi=medium_fire_no_ak[[medium_fire_no_ak[\"envelope_centroid\"].iloc[i].__geo_interface__[\"coordinates\"][0] > -125 for i in range(len(medium_fire_no_ak))]]"
   ]
  },
  {
   "cell_type": "code",
   "execution_count": null,
   "id": "481973cc",
   "metadata": {},
   "outputs": [],
   "source": [
    "%%time\n",
    "u10_list=[]\n",
    "v10_list=[]\n",
    "t2m_list=[]\n",
    "\n",
    "for i in tqdm(range(len(medium_fire_no_ak_hi))):\n",
    "    c = cdsapi.Client(quiet=True)\n",
    "    env_cen_x=medium_fire_no_ak_hi[\"envelope_centroid\"].iloc[i].__geo_interface__[\"coordinates\"][0]\n",
    "    env_cen_y=medium_fire_no_ak_hi[\"envelope_centroid\"].iloc[i].__geo_interface__[\"coordinates\"][1]\n",
    "    hour=((np.array([2, 8, 14,  22]) - np.floor((-125+ 7.5) / 15)) % 24).tolist()\n",
    "    this_day=medium_fire_no_ak_hi[\"date\"].iloc[i]\n",
    "    next_day=this_day+np.timedelta64(1, 'D')\n",
    "\n",
    "    day_list=[]\n",
    "    month_list=[]\n",
    "    year_list=[]\n",
    "    \n",
    "    day_list.append(this_day.day)\n",
    "    day_list.append(next_day.day)\n",
    "    month_list.append(this_day.month)\n",
    "    year_list.append(this_day.year)    \n",
    "    if this_day.month != next_day.month:\n",
    "        month_list.append(next_day.month)\n",
    "    if this_day.year != next_day.year:\n",
    "        year_list.append(next_day.year)\n",
    "\n",
    "    day_list=[str(d).zfill(2) for d in day_list]\n",
    "    month_list=[str(m).zfill(2) for m in month_list]\n",
    "    year_list=[str(y) for y in year_list]\n",
    "\n",
    "    fl=c.retrieve(\n",
    "        'reanalysis-era5-land',\n",
    "        {\n",
    "            'format': 'netcdf',\n",
    "            'variable': [\n",
    "                '10m_u_component_of_wind', '10m_v_component_of_wind', '2m_temperature',\n",
    "            ],\n",
    "            'day': day_list,\n",
    "            'year': year_list,\n",
    "            'month': month_list,\n",
    "            'time': [str(int(h)).zfill(2)+\":00\" for h in hour],\n",
    "            'area': [\n",
    "                env_cen_y, env_cen_x, env_cen_y-0.1,\n",
    "                 env_cen_x+0.1,\n",
    "            ],\n",
    "        })\n",
    "\n",
    "    with urllib.request.urlopen(fl.location) as f:\n",
    "        ds = xr.open_dataset(f.read())\n",
    "\n",
    "    time_list=[this_day + np.timedelta64(int(hour[0]), 'h'),\n",
    "    this_day + np.timedelta64(int(hour[1]), 'h'),\n",
    "    this_day + np.timedelta64(int(hour[2]), 'h'),\n",
    "    next_day + np.timedelta64(int(hour[3]), 'h')]\n",
    "\n",
    "    u10=ds.sel(time=time_list).u10[:,0,0].values\n",
    "    v10=ds.sel(time=time_list).v10[:,0,0].values\n",
    "    t2m=ds.sel(time=time_list).t2m[:,0,0].values\n",
    "    \n",
    "    u10_list.append(u10)\n",
    "    v10_list.append(v10)\n",
    "    t2m_list.append(t2m)"
   ]
  },
  {
   "cell_type": "code",
   "execution_count": null,
   "id": "cee2ec48",
   "metadata": {},
   "outputs": [],
   "source": []
  }
 ],
 "metadata": {
  "kernelspec": {
   "display_name": "Python 3",
   "language": "python",
   "name": "python3"
  },
  "language_info": {
   "codemirror_mode": {
    "name": "ipython",
    "version": 3
   },
   "file_extension": ".py",
   "mimetype": "text/x-python",
   "name": "python",
   "nbconvert_exporter": "python",
   "pygments_lexer": "ipython3",
   "version": "3.8.8"
  }
 },
 "nbformat": 4,
 "nbformat_minor": 5
}
